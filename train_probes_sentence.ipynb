{
 "cells": [
  {
   "cell_type": "code",
   "execution_count": 52,
   "id": "ad888284",
   "metadata": {},
   "outputs": [],
   "source": [
    "import os\n",
    "import json\n",
    "\n",
    "import matplotlib.pyplot as plt\n",
    "import numpy as np\n",
    "import torch\n",
    "from torch.utils.data import Dataset\n",
    "from tqdm import tqdm\n",
    "import spacy\n",
    "\n",
    "import transformer_lens\n",
    "from probe_model import LinearProbe, Trainer, TrainerConfig"
   ]
  },
  {
   "cell_type": "markdown",
   "id": "a3fe9b37",
   "metadata": {},
   "source": [
    "## Setup"
   ]
  },
  {
   "cell_type": "code",
   "execution_count": 53,
   "id": "b39796f9",
   "metadata": {},
   "outputs": [
    {
     "name": "stdout",
     "output_type": "stream",
     "text": [
      "Device: cuda\n"
     ]
    }
   ],
   "source": [
    "device_name = \"cpu\"\n",
    "if torch.cuda.is_available():\n",
    "    device_name = \"cuda\" # CUDA for NVIDIA GPU\n",
    "\n",
    "device = torch.device(device_name)\n",
    "print(f\"Device: {device_name}\")"
   ]
  },
  {
   "cell_type": "code",
   "execution_count": 54,
   "id": "062e5fd1",
   "metadata": {},
   "outputs": [
    {
     "name": "stdout",
     "output_type": "stream",
     "text": [
      "Loaded pretrained model gpt2-small into HookedTransformer\n"
     ]
    }
   ],
   "source": [
    "model_name = \"gpt2-small\"\n",
    "# model_name = \"gpt2-medium\"\n",
    "model = transformer_lens.HookedTransformer.from_pretrained(model_name)\n",
    "\n",
    "HIDDEN_DIM = model.cfg.d_model"
   ]
  },
  {
   "cell_type": "code",
   "execution_count": 55,
   "id": "9a10a8ae",
   "metadata": {},
   "outputs": [],
   "source": [
    "# Load the spaCy model\n",
    "spacy_model = spacy.load(\"en_core_web_sm\")"
   ]
  },
  {
   "cell_type": "markdown",
   "id": "fcdf677c",
   "metadata": {},
   "source": [
    "## Generate dataset"
   ]
  },
  {
   "cell_type": "markdown",
   "id": "22a86780",
   "metadata": {},
   "source": [
    "### Load text"
   ]
  },
  {
   "cell_type": "code",
   "execution_count": 56,
   "id": "6c18d71a",
   "metadata": {},
   "outputs": [
    {
     "data": {
      "text/plain": [
       "array(['Todman said over the radio as he came back up in formation .',\n",
       "       \"Such a pitiful end '' ! !\", '`` Your fault , hell ! !',\n",
       "       'The Old Man near the corner let the shadow pass over him , sensing something portentous in it .',\n",
       "       'All my rosy visions of rest and even pleasure on this island vanished at the sight .'],\n",
       "      dtype='<U754')"
      ]
     },
     "execution_count": 56,
     "metadata": {},
     "output_type": "execute_result"
    }
   ],
   "source": [
    "# corpus = 'datasets/prewar.txt'\n",
    "corpus = 'datasets/brown.dev'\n",
    "with open(corpus, 'r') as f:\n",
    "    raw_sentences = [line.rstrip(\"\\n\") for line in f.readlines()]\n",
    "\n",
    "DATASET_CUTOFF = 10000\n",
    "raw_sentences = raw_sentences[:DATASET_CUTOFF]\n",
    "np.random.choice(raw_sentences, 5)"
   ]
  },
  {
   "cell_type": "markdown",
   "id": "8b8e3413",
   "metadata": {},
   "source": [
    "### Generating text sequences with labels (word index)"
   ]
  },
  {
   "cell_type": "code",
   "execution_count": 57,
   "id": "c995ced3",
   "metadata": {},
   "outputs": [],
   "source": [
    "def map_word_index(text, prepend_bos=False):\n",
    "    gpt_tokens = model.to_tokens(text, prepend_bos=prepend_bos).squeeze(0)\n",
    "    gpt_tokens_str = [model.to_single_str_token(int(t)) for t in gpt_tokens]\n",
    "\n",
    "    doc = spacy_model(str(text))\n",
    "    word_idxs = [t.text for t in doc if t.is_alpha]\n",
    "\n",
    "    if not len(word_idxs):\n",
    "        return torch.Tensor(), []\n",
    "\n",
    "    i = 0\n",
    "    cur = 0 # current word index\n",
    "    sub_idx = 0 # sub index of current word\n",
    "\n",
    "    result = []\n",
    "    while i < len(gpt_tokens_str):\n",
    "        t = gpt_tokens_str[i].strip()\n",
    "        # skip if token is just a newline or other whitespace\n",
    "        if not len(t):\n",
    "            result.append((t, i, -1))\n",
    "            i += 1\n",
    "            continue\n",
    "\n",
    "        cur_word = word_idxs[cur]\n",
    "        # if token is part of current word, update sub_idx, continue to next token\n",
    "        if cur_word.find(t, sub_idx) != -1:\n",
    "            result.append((t, i, cur))\n",
    "            sub_idx += len(t)\n",
    "            i += 1\n",
    "        else:\n",
    "            # if token not in cur_word, check next word\n",
    "            if cur+1 < len(word_idxs) and t in word_idxs[cur+1]:\n",
    "                cur += 1\n",
    "                sub_idx = 0\n",
    "            # if not in cur_word or next word, give up and continue\n",
    "            else:\n",
    "                result.append((t, i, -1))\n",
    "                i += 1 \n",
    "\n",
    "    return gpt_tokens, result"
   ]
  },
  {
   "cell_type": "code",
   "execution_count": 7,
   "id": "b8360d48",
   "metadata": {},
   "outputs": [],
   "source": [
    "# check that map_word_index function is working correctly\n",
    "# for s in tqdm(raw_sentences):\n",
    "#     tokens, info = map_word_index(s)\n",
    "#     assert len(tokens) == len(info)"
   ]
  },
  {
   "cell_type": "code",
   "execution_count": 58,
   "id": "5034918c",
   "metadata": {},
   "outputs": [
    {
     "data": {
      "text/plain": [
       "(array([-1,  0,  1,  2,  3,  4,  5,  6,  7,  8,  9, 10, 11, 12, 13, 14, 15,\n",
       "        16, 17, 18, 19, 20, 21, 22, 23, 24, 25, 26, 27, 28, 29, 30, 31, 32,\n",
       "        33, 34, 35]),\n",
       " array([85, 38, 30, 29, 29, 26, 27, 27, 21, 20, 16, 18, 14, 13, 14, 11, 11,\n",
       "        10,  8, 10,  9,  7,  6,  6,  6,  4,  4,  5,  3,  3,  3,  2,  2,  2,\n",
       "         2,  2,  1]))"
      ]
     },
     "execution_count": 58,
     "metadata": {},
     "output_type": "execute_result"
    }
   ],
   "source": [
    "SEQ_LEN = 500\n",
    "\n",
    "def generate_seq():\n",
    "    tokens = model.to_tokens(\"\\n\", prepend_bos=True).squeeze(0)\n",
    "    info = [(\"\\n\", 0, -1)]\n",
    "\n",
    "    while len(tokens) < SEQ_LEN:\n",
    "        next_t, next_info = map_word_index(np.random.choice(raw_sentences))\n",
    "        if len(next_t):\n",
    "            tokens = torch.cat((tokens, next_t))\n",
    "            info.extend(next_info)\n",
    "\n",
    "    word_idx = np.array(list(map(lambda x: x[2], info)))\n",
    "    return tokens, word_idx\n",
    "\n",
    "tokens, word_idx = generate_seq()\n",
    "np.unique(word_idx, return_counts=True)"
   ]
  },
  {
   "cell_type": "markdown",
   "id": "dbe4fdbb",
   "metadata": {},
   "source": [
    "### Generate Embeddings"
   ]
  },
  {
   "cell_type": "code",
   "execution_count": 59,
   "id": "78a08d3d",
   "metadata": {},
   "outputs": [
    {
     "name": "stderr",
     "output_type": "stream",
     "text": [
      "100%|██████████| 1000/1000 [04:48<00:00,  3.46it/s]\n"
     ]
    }
   ],
   "source": [
    "N_SEQS = 1000\n",
    "# cutoff initial tokens because model behavior is weird there\n",
    "PREFIX_CUTOFF = 50\n",
    "\n",
    "torch.set_grad_enabled(False)\n",
    "\n",
    "all_resids = []\n",
    "all_word_idx = []\n",
    "\n",
    "for i_batch in tqdm(range(N_SEQS)):\n",
    "    tokens, word_idx = generate_seq()\n",
    "    # make sure tokens doesn't exceed GPT2's context length\n",
    "    tokens = tokens[:1000]\n",
    "\n",
    "    _, cache = model.run_with_cache(tokens, names_filter=lambda x: x.endswith(\"resid_post\"))\n",
    "    residuals = cache.stack_activation(\"resid_post\")\n",
    "\n",
    "    # residuals.shape = (layer, batch, seq_len, model_residual_dimension)\n",
    "    residuals = residuals[:, 0, PREFIX_CUTOFF+1:, :]\n",
    "    word_idx = word_idx[PREFIX_CUTOFF:]\n",
    "\n",
    "    assert residuals.shape[1] == word_idx.shape[0]\n",
    "\n",
    "    # this mask excludes puncuation and word fragments\n",
    "    mask = word_idx != -1\n",
    "\n",
    "    all_resids.append(residuals.cpu().numpy()[:, mask])\n",
    "    all_word_idx.append(word_idx[mask])\n",
    "\n"
   ]
  },
  {
   "cell_type": "code",
   "execution_count": 60,
   "id": "05de5203",
   "metadata": {},
   "outputs": [
    {
     "name": "stdout",
     "output_type": "stream",
     "text": [
      "(12, 367251, 768)\n",
      "(367251,)\n"
     ]
    }
   ],
   "source": [
    "x_all_layers = np.concatenate(all_resids, axis=1)\n",
    "y_all = np.concatenate(all_word_idx)\n",
    "\n",
    "print(x_all_layers.shape)\n",
    "print(y_all.shape)"
   ]
  },
  {
   "cell_type": "code",
   "execution_count": 75,
   "id": "7d0ed6ad",
   "metadata": {},
   "outputs": [
    {
     "name": "stdout",
     "output_type": "stream",
     "text": [
      "[ 0.  1.  1.  2.  3.  4.  4.  5.  6.  7.  8.  9. 10. 12. 13. 15. 18. 21.\n",
      " 27.]\n"
     ]
    }
   ],
   "source": [
    "N_BUCKETS = 20\n",
    "percentile_buckets = [(100 // N_BUCKETS) * i for i in range(1, N_BUCKETS)]\n",
    "cutoffs = np.percentile(y_all, percentile_buckets)\n",
    "q_binned = np.searchsorted(cutoffs, y_all, side='right')\n",
    "\n",
    "print(cutoffs)"
   ]
  },
  {
   "cell_type": "markdown",
   "id": "034360cf",
   "metadata": {},
   "source": [
    "### filter data"
   ]
  },
  {
   "cell_type": "code",
   "execution_count": 76,
   "id": "fe6df234",
   "metadata": {},
   "outputs": [
    {
     "name": "stdout",
     "output_type": "stream",
     "text": [
      "(367251, 768)\n",
      "(367251,)\n"
     ]
    }
   ],
   "source": [
    "LAYER = 2\n",
    "\n",
    "X = x_all_layers[LAYER, :]\n",
    "Y = q_binned\n",
    "\n",
    "print(X.shape)\n",
    "print(Y.shape)"
   ]
  },
  {
   "cell_type": "markdown",
   "id": "94bf3ee3",
   "metadata": {},
   "source": [
    "## Training Probes"
   ]
  },
  {
   "cell_type": "code",
   "execution_count": 77,
   "id": "d177765b",
   "metadata": {},
   "outputs": [],
   "source": [
    "class ProbingDataset(Dataset):\n",
    "    def __init__(self, act, y):\n",
    "        assert len(act) == len(y)\n",
    "        print(f\"dataset: {len(act)} pairs loaded...\")\n",
    "        self.act = act\n",
    "        self.y = y\n",
    "        print(\"y:\", np.unique(y, return_counts=True))\n",
    "        \n",
    "    def __len__(self, ):\n",
    "        return len(self.y)\n",
    "    \n",
    "    def __getitem__(self, idx):\n",
    "        return torch.tensor(self.act[idx]), torch.tensor(self.y[idx]).long()"
   ]
  },
  {
   "cell_type": "code",
   "execution_count": 88,
   "id": "c5784815",
   "metadata": {
    "scrolled": true
   },
   "outputs": [
    {
     "name": "stdout",
     "output_type": "stream",
     "text": [
      "dataset: 367251 pairs loaded...\n",
      "y: (array([ 1,  3,  4,  5,  7,  8,  9, 10, 11, 12, 13, 14, 15, 16, 17, 18, 19]), array([30895, 27729, 25979, 25058, 23300, 21705, 20247, 18623, 17028,\n",
      "       15768, 28111, 11934, 20624, 23760, 16810, 20120, 19560]))\n",
      "split into [test/train], [73451/293800]\n"
     ]
    }
   ],
   "source": [
    "probing_dataset = ProbingDataset(X, Y)\n",
    "train_size = int(0.8 * len(probing_dataset))\n",
    "test_size = len(probing_dataset) - train_size\n",
    "probe_train_dataset, probe_test_dataset = torch.utils.data.random_split(probing_dataset, [train_size, test_size])\n",
    "print(f\"split into [test/train], [{test_size}/{train_size}]\")"
   ]
  },
  {
   "cell_type": "code",
   "execution_count": 89,
   "id": "0b7aa85c",
   "metadata": {},
   "outputs": [
    {
     "ename": "RuntimeError",
     "evalue": "CUDA error: device-side assert triggered\nCUDA kernel errors might be asynchronously reported at some other API call, so the stacktrace below might be incorrect.\nFor debugging consider passing CUDA_LAUNCH_BLOCKING=1.\nCompile with `TORCH_USE_CUDA_DSA` to enable device-side assertions.\n",
     "output_type": "error",
     "traceback": [
      "\u001b[0;31m---------------------------------------------------------------------------\u001b[0m",
      "\u001b[0;31mRuntimeError\u001b[0m                              Traceback (most recent call last)",
      "Cell \u001b[0;32mIn[89], line 1\u001b[0m\n\u001b[0;32m----> 1\u001b[0m probe \u001b[38;5;241m=\u001b[39m LinearProbe(device, HIDDEN_DIM, \u001b[38;5;28mlen\u001b[39m(np\u001b[38;5;241m.\u001b[39munique(Y)))\n\u001b[1;32m      3\u001b[0m EXPERIMENT_NAME \u001b[38;5;241m=\u001b[39m \u001b[38;5;124mf\u001b[39m\u001b[38;5;124m\"\u001b[39m\u001b[38;5;124mbrown_\u001b[39m\u001b[38;5;132;01m{\u001b[39;00mN_BUCKETS\u001b[38;5;132;01m}\u001b[39;00m\u001b[38;5;124mqbin_366k\u001b[39m\u001b[38;5;124m\"\u001b[39m\n\u001b[1;32m      4\u001b[0m folder \u001b[38;5;241m=\u001b[39m \u001b[38;5;124mf\u001b[39m\u001b[38;5;124m\"\u001b[39m\u001b[38;5;124mckpts/\u001b[39m\u001b[38;5;132;01m{\u001b[39;00mmodel_name\u001b[38;5;132;01m}\u001b[39;00m\u001b[38;5;124m/\u001b[39m\u001b[38;5;132;01m{\u001b[39;00mEXPERIMENT_NAME\u001b[38;5;132;01m}\u001b[39;00m\u001b[38;5;124m/layer\u001b[39m\u001b[38;5;132;01m{\u001b[39;00mLAYER\u001b[38;5;132;01m}\u001b[39;00m\u001b[38;5;124m\"\u001b[39m\n",
      "File \u001b[0;32m~/other/ling_project/probe_model.py:23\u001b[0m, in \u001b[0;36mLinearProbe.__init__\u001b[0;34m(self, device, num_input_features, num_classes)\u001b[0m\n\u001b[1;32m     20\u001b[0m init\u001b[38;5;241m.\u001b[39mkaiming_uniform_(\u001b[38;5;28mself\u001b[39m\u001b[38;5;241m.\u001b[39mlinear\u001b[38;5;241m.\u001b[39mweight, nonlinearity\u001b[38;5;241m=\u001b[39m\u001b[38;5;124m'\u001b[39m\u001b[38;5;124mrelu\u001b[39m\u001b[38;5;124m'\u001b[39m)\n\u001b[1;32m     21\u001b[0m init\u001b[38;5;241m.\u001b[39mzeros_(\u001b[38;5;28mself\u001b[39m\u001b[38;5;241m.\u001b[39mlinear\u001b[38;5;241m.\u001b[39mbias)\n\u001b[0;32m---> 23\u001b[0m \u001b[38;5;28mself\u001b[39m\u001b[38;5;241m.\u001b[39mto(device)\n",
      "File \u001b[0;32m~/miniconda3/envs/ling/lib/python3.11/site-packages/torch/nn/modules/module.py:1152\u001b[0m, in \u001b[0;36mModule.to\u001b[0;34m(self, *args, **kwargs)\u001b[0m\n\u001b[1;32m   1148\u001b[0m         \u001b[38;5;28;01mreturn\u001b[39;00m t\u001b[38;5;241m.\u001b[39mto(device, dtype \u001b[38;5;28;01mif\u001b[39;00m t\u001b[38;5;241m.\u001b[39mis_floating_point() \u001b[38;5;129;01mor\u001b[39;00m t\u001b[38;5;241m.\u001b[39mis_complex() \u001b[38;5;28;01melse\u001b[39;00m \u001b[38;5;28;01mNone\u001b[39;00m,\n\u001b[1;32m   1149\u001b[0m                     non_blocking, memory_format\u001b[38;5;241m=\u001b[39mconvert_to_format)\n\u001b[1;32m   1150\u001b[0m     \u001b[38;5;28;01mreturn\u001b[39;00m t\u001b[38;5;241m.\u001b[39mto(device, dtype \u001b[38;5;28;01mif\u001b[39;00m t\u001b[38;5;241m.\u001b[39mis_floating_point() \u001b[38;5;129;01mor\u001b[39;00m t\u001b[38;5;241m.\u001b[39mis_complex() \u001b[38;5;28;01melse\u001b[39;00m \u001b[38;5;28;01mNone\u001b[39;00m, non_blocking)\n\u001b[0;32m-> 1152\u001b[0m \u001b[38;5;28;01mreturn\u001b[39;00m \u001b[38;5;28mself\u001b[39m\u001b[38;5;241m.\u001b[39m_apply(convert)\n",
      "File \u001b[0;32m~/miniconda3/envs/ling/lib/python3.11/site-packages/torch/nn/modules/module.py:802\u001b[0m, in \u001b[0;36mModule._apply\u001b[0;34m(self, fn, recurse)\u001b[0m\n\u001b[1;32m    800\u001b[0m \u001b[38;5;28;01mif\u001b[39;00m recurse:\n\u001b[1;32m    801\u001b[0m     \u001b[38;5;28;01mfor\u001b[39;00m module \u001b[38;5;129;01min\u001b[39;00m \u001b[38;5;28mself\u001b[39m\u001b[38;5;241m.\u001b[39mchildren():\n\u001b[0;32m--> 802\u001b[0m         module\u001b[38;5;241m.\u001b[39m_apply(fn)\n\u001b[1;32m    804\u001b[0m \u001b[38;5;28;01mdef\u001b[39;00m \u001b[38;5;21mcompute_should_use_set_data\u001b[39m(tensor, tensor_applied):\n\u001b[1;32m    805\u001b[0m     \u001b[38;5;28;01mif\u001b[39;00m torch\u001b[38;5;241m.\u001b[39m_has_compatible_shallow_copy_type(tensor, tensor_applied):\n\u001b[1;32m    806\u001b[0m         \u001b[38;5;66;03m# If the new tensor has compatible tensor type as the existing tensor,\u001b[39;00m\n\u001b[1;32m    807\u001b[0m         \u001b[38;5;66;03m# the current behavior is to change the tensor in-place using `.data =`,\u001b[39;00m\n\u001b[0;32m   (...)\u001b[0m\n\u001b[1;32m    812\u001b[0m         \u001b[38;5;66;03m# global flag to let the user control whether they want the future\u001b[39;00m\n\u001b[1;32m    813\u001b[0m         \u001b[38;5;66;03m# behavior of overwriting the existing tensor or not.\u001b[39;00m\n",
      "File \u001b[0;32m~/miniconda3/envs/ling/lib/python3.11/site-packages/torch/nn/modules/module.py:825\u001b[0m, in \u001b[0;36mModule._apply\u001b[0;34m(self, fn, recurse)\u001b[0m\n\u001b[1;32m    821\u001b[0m \u001b[38;5;66;03m# Tensors stored in modules are graph leaves, and we don't want to\u001b[39;00m\n\u001b[1;32m    822\u001b[0m \u001b[38;5;66;03m# track autograd history of `param_applied`, so we have to use\u001b[39;00m\n\u001b[1;32m    823\u001b[0m \u001b[38;5;66;03m# `with torch.no_grad():`\u001b[39;00m\n\u001b[1;32m    824\u001b[0m \u001b[38;5;28;01mwith\u001b[39;00m torch\u001b[38;5;241m.\u001b[39mno_grad():\n\u001b[0;32m--> 825\u001b[0m     param_applied \u001b[38;5;241m=\u001b[39m fn(param)\n\u001b[1;32m    826\u001b[0m should_use_set_data \u001b[38;5;241m=\u001b[39m compute_should_use_set_data(param, param_applied)\n\u001b[1;32m    827\u001b[0m \u001b[38;5;28;01mif\u001b[39;00m should_use_set_data:\n",
      "File \u001b[0;32m~/miniconda3/envs/ling/lib/python3.11/site-packages/torch/nn/modules/module.py:1150\u001b[0m, in \u001b[0;36mModule.to.<locals>.convert\u001b[0;34m(t)\u001b[0m\n\u001b[1;32m   1147\u001b[0m \u001b[38;5;28;01mif\u001b[39;00m convert_to_format \u001b[38;5;129;01mis\u001b[39;00m \u001b[38;5;129;01mnot\u001b[39;00m \u001b[38;5;28;01mNone\u001b[39;00m \u001b[38;5;129;01mand\u001b[39;00m t\u001b[38;5;241m.\u001b[39mdim() \u001b[38;5;129;01min\u001b[39;00m (\u001b[38;5;241m4\u001b[39m, \u001b[38;5;241m5\u001b[39m):\n\u001b[1;32m   1148\u001b[0m     \u001b[38;5;28;01mreturn\u001b[39;00m t\u001b[38;5;241m.\u001b[39mto(device, dtype \u001b[38;5;28;01mif\u001b[39;00m t\u001b[38;5;241m.\u001b[39mis_floating_point() \u001b[38;5;129;01mor\u001b[39;00m t\u001b[38;5;241m.\u001b[39mis_complex() \u001b[38;5;28;01melse\u001b[39;00m \u001b[38;5;28;01mNone\u001b[39;00m,\n\u001b[1;32m   1149\u001b[0m                 non_blocking, memory_format\u001b[38;5;241m=\u001b[39mconvert_to_format)\n\u001b[0;32m-> 1150\u001b[0m \u001b[38;5;28;01mreturn\u001b[39;00m t\u001b[38;5;241m.\u001b[39mto(device, dtype \u001b[38;5;28;01mif\u001b[39;00m t\u001b[38;5;241m.\u001b[39mis_floating_point() \u001b[38;5;129;01mor\u001b[39;00m t\u001b[38;5;241m.\u001b[39mis_complex() \u001b[38;5;28;01melse\u001b[39;00m \u001b[38;5;28;01mNone\u001b[39;00m, non_blocking)\n",
      "\u001b[0;31mRuntimeError\u001b[0m: CUDA error: device-side assert triggered\nCUDA kernel errors might be asynchronously reported at some other API call, so the stacktrace below might be incorrect.\nFor debugging consider passing CUDA_LAUNCH_BLOCKING=1.\nCompile with `TORCH_USE_CUDA_DSA` to enable device-side assertions.\n"
     ]
    }
   ],
   "source": [
    "probe = LinearProbe(device, HIDDEN_DIM, len(np.unique(Y)))\n",
    "\n",
    "EXPERIMENT_NAME = f\"brown_{N_BUCKETS}qbin_366k\"\n",
    "folder = f\"ckpts/{model_name}/{EXPERIMENT_NAME}/layer{LAYER}\"\n",
    "if os.path.isdir(folder):\n",
    "    print(f\"Warning, {folder} already exists\")\n",
    "config = TrainerConfig(num_epochs=20, ckpt_path=folder)\n",
    "trainer = Trainer(device, probe, probe_train_dataset, probe_test_dataset, config)"
   ]
  },
  {
   "cell_type": "code",
   "execution_count": 90,
   "id": "8c464d35",
   "metadata": {},
   "outputs": [
    {
     "name": "stderr",
     "output_type": "stream",
     "text": [
      "Epoch 0; no stats yet:   0%|          | 0/20 [00:00<?, ?it/s]\n"
     ]
    },
    {
     "ename": "RuntimeError",
     "evalue": "CUDA error: device-side assert triggered\nCUDA kernel errors might be asynchronously reported at some other API call, so the stacktrace below might be incorrect.\nFor debugging consider passing CUDA_LAUNCH_BLOCKING=1.\nCompile with `TORCH_USE_CUDA_DSA` to enable device-side assertions.\n",
     "output_type": "error",
     "traceback": [
      "\u001b[0;31m---------------------------------------------------------------------------\u001b[0m",
      "\u001b[0;31mRuntimeError\u001b[0m                              Traceback (most recent call last)",
      "Cell \u001b[0;32mIn[90], line 1\u001b[0m\n\u001b[0;32m----> 1\u001b[0m trainer\u001b[38;5;241m.\u001b[39mtrain()\n",
      "File \u001b[0;32m~/other/ling_project/probe_model.py:133\u001b[0m, in \u001b[0;36mTrainer.train\u001b[0;34m(self)\u001b[0m\n\u001b[1;32m    131\u001b[0m bar\u001b[38;5;241m.\u001b[39mset_description(\u001b[38;5;124m\"\u001b[39m\u001b[38;5;124mEpoch 0; no stats yet\u001b[39m\u001b[38;5;124m\"\u001b[39m)\n\u001b[1;32m    132\u001b[0m \u001b[38;5;28;01mfor\u001b[39;00m epo \u001b[38;5;129;01min\u001b[39;00m bar:\n\u001b[0;32m--> 133\u001b[0m     train_loss, train_acc \u001b[38;5;241m=\u001b[39m run_epoch(\u001b[38;5;124m'\u001b[39m\u001b[38;5;124mtrain\u001b[39m\u001b[38;5;124m'\u001b[39m)\n\u001b[1;32m    134\u001b[0m     \u001b[38;5;66;03m# save whenever we hit new best test loss\u001b[39;00m\n\u001b[1;32m    135\u001b[0m     test_loss, test_acc \u001b[38;5;241m=\u001b[39m run_epoch(\u001b[38;5;124m'\u001b[39m\u001b[38;5;124mtest\u001b[39m\u001b[38;5;124m'\u001b[39m)\n",
      "File \u001b[0;32m~/other/ling_project/probe_model.py:96\u001b[0m, in \u001b[0;36mTrainer.train.<locals>.run_epoch\u001b[0;34m(split)\u001b[0m\n\u001b[1;32m     93\u001b[0m epoch_samples \u001b[38;5;241m=\u001b[39m \u001b[38;5;241m0\u001b[39m \n\u001b[1;32m     95\u001b[0m \u001b[38;5;28;01mfor\u001b[39;00m x, y \u001b[38;5;129;01min\u001b[39;00m loader:\n\u001b[0;32m---> 96\u001b[0m     x \u001b[38;5;241m=\u001b[39m x\u001b[38;5;241m.\u001b[39mto(\u001b[38;5;28mself\u001b[39m\u001b[38;5;241m.\u001b[39mdevice)\n\u001b[1;32m     97\u001b[0m     y \u001b[38;5;241m=\u001b[39m y\u001b[38;5;241m.\u001b[39mto(\u001b[38;5;28mself\u001b[39m\u001b[38;5;241m.\u001b[39mdevice)\n\u001b[1;32m     99\u001b[0m     \u001b[38;5;28;01mwith\u001b[39;00m torch\u001b[38;5;241m.\u001b[39mset_grad_enabled(is_train):\n",
      "\u001b[0;31mRuntimeError\u001b[0m: CUDA error: device-side assert triggered\nCUDA kernel errors might be asynchronously reported at some other API call, so the stacktrace below might be incorrect.\nFor debugging consider passing CUDA_LAUNCH_BLOCKING=1.\nCompile with `TORCH_USE_CUDA_DSA` to enable device-side assertions.\n"
     ]
    }
   ],
   "source": [
    "trainer.train()"
   ]
  },
  {
   "cell_type": "code",
   "execution_count": 82,
   "id": "77299f53",
   "metadata": {},
   "outputs": [
    {
     "ename": "RuntimeError",
     "evalue": "CUDA error: device-side assert triggered\nCUDA kernel errors might be asynchronously reported at some other API call, so the stacktrace below might be incorrect.\nFor debugging consider passing CUDA_LAUNCH_BLOCKING=1.\nCompile with `TORCH_USE_CUDA_DSA` to enable device-side assertions.\n",
     "output_type": "error",
     "traceback": [
      "\u001b[0;31m---------------------------------------------------------------------------\u001b[0m",
      "\u001b[0;31mRuntimeError\u001b[0m                              Traceback (most recent call last)",
      "Cell \u001b[0;32mIn[82], line 1\u001b[0m\n\u001b[0;32m----> 1\u001b[0m \u001b[38;5;28mprint\u001b[39m(trainer\u001b[38;5;241m.\u001b[39mgenerate_report())\n",
      "File \u001b[0;32m~/other/ling_project/probe_model.py:158\u001b[0m, in \u001b[0;36mTrainer.generate_report\u001b[0;34m(self, split)\u001b[0m\n\u001b[1;32m    156\u001b[0m \u001b[38;5;28;01mwith\u001b[39;00m torch\u001b[38;5;241m.\u001b[39mno_grad():\n\u001b[1;32m    157\u001b[0m     \u001b[38;5;28;01mfor\u001b[39;00m x, y \u001b[38;5;129;01min\u001b[39;00m loader:\n\u001b[0;32m--> 158\u001b[0m         x \u001b[38;5;241m=\u001b[39m x\u001b[38;5;241m.\u001b[39mto(\u001b[38;5;28mself\u001b[39m\u001b[38;5;241m.\u001b[39mdevice)\n\u001b[1;32m    159\u001b[0m         logits \u001b[38;5;241m=\u001b[39m \u001b[38;5;28mself\u001b[39m\u001b[38;5;241m.\u001b[39mmodel(x)\n\u001b[1;32m    160\u001b[0m         _, preds \u001b[38;5;241m=\u001b[39m torch\u001b[38;5;241m.\u001b[39mmax(logits, dim\u001b[38;5;241m=\u001b[39m\u001b[38;5;241m1\u001b[39m)\n",
      "\u001b[0;31mRuntimeError\u001b[0m: CUDA error: device-side assert triggered\nCUDA kernel errors might be asynchronously reported at some other API call, so the stacktrace below might be incorrect.\nFor debugging consider passing CUDA_LAUNCH_BLOCKING=1.\nCompile with `TORCH_USE_CUDA_DSA` to enable device-side assertions.\n"
     ]
    }
   ],
   "source": [
    "print(trainer.generate_report())"
   ]
  },
  {
   "cell_type": "markdown",
   "id": "4b5a2260",
   "metadata": {},
   "source": [
    "### plotting loss curves"
   ]
  },
  {
   "cell_type": "code",
   "execution_count": 49,
   "id": "72337e52",
   "metadata": {},
   "outputs": [
    {
     "data": {
      "image/png": "[encoded data removed]",
      "text/plain": [
       "<Figure size 1200x500 with 2 Axes>"
      ]
     },
     "metadata": {},
     "output_type": "display_data"
    }
   ],
   "source": [
    "metrics_path = os.path.join(folder, 'metrics.json')\n",
    "\n",
    "# Load the metrics from the JSON file\n",
    "with open(metrics_path, 'r') as f:\n",
    "    metrics = json.load(f)['metrics']\n",
    "\n",
    "# Extract the loss and accuracy data\n",
    "train_loss = metrics['train_loss']\n",
    "test_loss = metrics['test_loss']\n",
    "train_acc = metrics['train_acc']\n",
    "test_acc = metrics['test_acc']\n",
    "\n",
    "# Plot the loss curves\n",
    "plt.figure(figsize=(12, 5))\n",
    "\n",
    "# Loss plot\n",
    "plt.subplot(1, 2, 1)\n",
    "plt.plot(train_loss, label='Training Loss')\n",
    "plt.plot(test_loss, label='Testing Loss')\n",
    "plt.title('Loss Curves')\n",
    "plt.xlabel('Epoch')\n",
    "plt.ylabel('Loss')\n",
    "plt.legend()\n",
    "plt.grid(True)\n",
    "\n",
    "# Accuracy plot\n",
    "plt.subplot(1, 2, 2)\n",
    "plt.plot(train_acc, label='Training Accuracy')\n",
    "plt.plot(test_acc, label='Testing Accuracy')\n",
    "plt.title('Accuracy Curves')\n",
    "plt.xlabel('Epoch')\n",
    "plt.ylabel('Accuracy')\n",
    "plt.legend()\n",
    "plt.grid(True)\n",
    "\n",
    "plt.tight_layout()\n",
    "plt.show()"
   ]
  },
  {
   "cell_type": "markdown",
   "id": "ab10fb9b",
   "metadata": {},
   "source": [
    "### training on all layers"
   ]
  },
  {
   "cell_type": "code",
   "execution_count": 59,
   "id": "1f7e4f48",
   "metadata": {},
   "outputs": [
    {
     "name": "stdout",
     "output_type": "stream",
     "text": [
      "LAYER: 0\n",
      "dataset: 425028 pairs loaded...\n",
      "y: (array([0, 1, 2, 3, 4, 5, 6, 7, 8, 9]), array([38709, 37441, 48172, 44650, 40265, 43919, 42377, 41368, 45358,\n",
      "       42769]))\n"
     ]
    },
    {
     "name": "stderr",
     "output_type": "stream",
     "text": [
      "Epoch 20; Train Loss: 1.83952; Train Acc: 30.759%; Test Acc: 30.706%: 100%|██████████| 20/20 [02:03<00:00,  6.18s/it]\n"
     ]
    },
    {
     "name": "stdout",
     "output_type": "stream",
     "text": [
      "LAYER: 1\n",
      "dataset: 425028 pairs loaded...\n",
      "y: (array([0, 1, 2, 3, 4, 5, 6, 7, 8, 9]), array([38709, 37441, 48172, 44650, 40265, 43919, 42377, 41368, 45358,\n",
      "       42769]))\n"
     ]
    },
    {
     "name": "stderr",
     "output_type": "stream",
     "text": [
      "Epoch 20; Train Loss: 1.50658; Train Acc: 40.624%; Test Acc: 39.540%: 100%|██████████| 20/20 [02:03<00:00,  6.19s/it]\n"
     ]
    },
    {
     "name": "stdout",
     "output_type": "stream",
     "text": [
      "LAYER: 2\n",
      "dataset: 425028 pairs loaded...\n",
      "y: (array([0, 1, 2, 3, 4, 5, 6, 7, 8, 9]), array([38709, 37441, 48172, 44650, 40265, 43919, 42377, 41368, 45358,\n",
      "       42769]))\n"
     ]
    },
    {
     "name": "stderr",
     "output_type": "stream",
     "text": [
      "Epoch 20; Train Loss: 1.36533; Train Acc: 44.917%; Test Acc: 44.711%: 100%|██████████| 20/20 [02:04<00:00,  6.25s/it]\n"
     ]
    },
    {
     "name": "stdout",
     "output_type": "stream",
     "text": [
      "LAYER: 3\n",
      "dataset: 425028 pairs loaded...\n",
      "y: (array([0, 1, 2, 3, 4, 5, 6, 7, 8, 9]), array([38709, 37441, 48172, 44650, 40265, 43919, 42377, 41368, 45358,\n",
      "       42769]))\n"
     ]
    },
    {
     "name": "stderr",
     "output_type": "stream",
     "text": [
      "Epoch 20; Train Loss: 1.37073; Train Acc: 44.926%; Test Acc: 44.669%: 100%|██████████| 20/20 [02:04<00:00,  6.20s/it]\n"
     ]
    },
    {
     "name": "stdout",
     "output_type": "stream",
     "text": [
      "LAYER: 4\n",
      "dataset: 425028 pairs loaded...\n",
      "y: (array([0, 1, 2, 3, 4, 5, 6, 7, 8, 9]), array([38709, 37441, 48172, 44650, 40265, 43919, 42377, 41368, 45358,\n",
      "       42769]))\n"
     ]
    },
    {
     "name": "stderr",
     "output_type": "stream",
     "text": [
      "Epoch 20; Train Loss: 1.33381; Train Acc: 45.876%; Test Acc: 45.453%: 100%|██████████| 20/20 [02:03<00:00,  6.16s/it]\n"
     ]
    },
    {
     "name": "stdout",
     "output_type": "stream",
     "text": [
      "LAYER: 5\n",
      "dataset: 425028 pairs loaded...\n",
      "y: (array([0, 1, 2, 3, 4, 5, 6, 7, 8, 9]), array([38709, 37441, 48172, 44650, 40265, 43919, 42377, 41368, 45358,\n",
      "       42769]))\n"
     ]
    },
    {
     "name": "stderr",
     "output_type": "stream",
     "text": [
      "Epoch 20; Train Loss: 1.30361; Train Acc: 46.558%; Test Acc: 46.863%: 100%|██████████| 20/20 [02:04<00:00,  6.24s/it]\n"
     ]
    },
    {
     "name": "stdout",
     "output_type": "stream",
     "text": [
      "LAYER: 6\n",
      "dataset: 425028 pairs loaded...\n",
      "y: (array([0, 1, 2, 3, 4, 5, 6, 7, 8, 9]), array([38709, 37441, 48172, 44650, 40265, 43919, 42377, 41368, 45358,\n",
      "       42769]))\n"
     ]
    },
    {
     "name": "stderr",
     "output_type": "stream",
     "text": [
      "Epoch 20; Train Loss: 1.31576; Train Acc: 46.171%; Test Acc: 45.631%: 100%|██████████| 20/20 [02:05<00:00,  6.25s/it]\n"
     ]
    },
    {
     "name": "stdout",
     "output_type": "stream",
     "text": [
      "LAYER: 7\n",
      "dataset: 425028 pairs loaded...\n",
      "y: (array([0, 1, 2, 3, 4, 5, 6, 7, 8, 9]), array([38709, 37441, 48172, 44650, 40265, 43919, 42377, 41368, 45358,\n",
      "       42769]))\n"
     ]
    },
    {
     "name": "stderr",
     "output_type": "stream",
     "text": [
      "Epoch 20; Train Loss: 1.36286; Train Acc: 44.384%; Test Acc: 44.286%: 100%|██████████| 20/20 [02:04<00:00,  6.23s/it]\n"
     ]
    },
    {
     "name": "stdout",
     "output_type": "stream",
     "text": [
      "LAYER: 8\n",
      "dataset: 425028 pairs loaded...\n",
      "y: (array([0, 1, 2, 3, 4, 5, 6, 7, 8, 9]), array([38709, 37441, 48172, 44650, 40265, 43919, 42377, 41368, 45358,\n",
      "       42769]))\n"
     ]
    },
    {
     "name": "stderr",
     "output_type": "stream",
     "text": [
      "Epoch 20; Train Loss: 1.46010; Train Acc: 41.489%; Test Acc: 41.067%: 100%|██████████| 20/20 [02:03<00:00,  6.19s/it]\n"
     ]
    },
    {
     "name": "stdout",
     "output_type": "stream",
     "text": [
      "LAYER: 9\n",
      "dataset: 425028 pairs loaded...\n",
      "y: (array([0, 1, 2, 3, 4, 5, 6, 7, 8, 9]), array([38709, 37441, 48172, 44650, 40265, 43919, 42377, 41368, 45358,\n",
      "       42769]))\n"
     ]
    },
    {
     "name": "stderr",
     "output_type": "stream",
     "text": [
      "Epoch 20; Train Loss: 1.58281; Train Acc: 37.902%; Test Acc: 37.037%: 100%|██████████| 20/20 [02:04<00:00,  6.20s/it]\n"
     ]
    },
    {
     "name": "stdout",
     "output_type": "stream",
     "text": [
      "LAYER: 10\n",
      "dataset: 425028 pairs loaded...\n",
      "y: (array([0, 1, 2, 3, 4, 5, 6, 7, 8, 9]), array([38709, 37441, 48172, 44650, 40265, 43919, 42377, 41368, 45358,\n",
      "       42769]))\n"
     ]
    },
    {
     "name": "stderr",
     "output_type": "stream",
     "text": [
      "Epoch 20; Train Loss: 1.70084; Train Acc: 34.789%; Test Acc: 34.483%: 100%|██████████| 20/20 [02:04<00:00,  6.24s/it]\n"
     ]
    },
    {
     "name": "stdout",
     "output_type": "stream",
     "text": [
      "LAYER: 11\n",
      "dataset: 425028 pairs loaded...\n",
      "y: (array([0, 1, 2, 3, 4, 5, 6, 7, 8, 9]), array([38709, 37441, 48172, 44650, 40265, 43919, 42377, 41368, 45358,\n",
      "       42769]))\n"
     ]
    },
    {
     "name": "stderr",
     "output_type": "stream",
     "text": [
      "Epoch 20; Train Loss: 1.84143; Train Acc: 31.609%; Test Acc: 32.026%: 100%|██████████| 20/20 [02:03<00:00,  6.20s/it]\n"
     ]
    }
   ],
   "source": [
    "for LAYER in range(x_all_layers.shape[0]):\n",
    "    print(f\"LAYER: {LAYER}\")\n",
    "    X = x_all_layers[LAYER, :]\n",
    "\n",
    "    probing_dataset = ProbingDataset(X, Y)\n",
    "    train_size = int(0.8 * len(probing_dataset))\n",
    "    test_size = len(probing_dataset) - train_size\n",
    "    probe_train_dataset, probe_test_dataset = torch.utils.data.random_split(probing_dataset, [train_size, test_size])\n",
    "\n",
    "    probe = LinearProbe(device, HIDDEN_DIM, len(np.unique(Y)))\n",
    "\n",
    "    EXPERIMENT_NAME = f\"prewar_{N_BUCKETS}qbin_425k\"\n",
    "    folder = f\"ckpts/{model_name}/{EXPERIMENT_NAME}/layer{LAYER}\"\n",
    "    if os.path.isdir(folder):\n",
    "        print(f\"Warning, {folder} already exists\")\n",
    "    config = TrainerConfig(num_epochs=20, ckpt_path=folder)\n",
    "    trainer = Trainer(device, probe, probe_train_dataset, probe_test_dataset, config)\n",
    "\n",
    "    trainer.train()"
   ]
  },
  {
   "cell_type": "code",
   "execution_count": 62,
   "id": "7d952ec6",
   "metadata": {},
   "outputs": [
    {
     "data": {
      "image/png": "[encoded data removed]",
      "text/plain": [
       "<Figure size 800x500 with 1 Axes>"
      ]
     },
     "metadata": {},
     "output_type": "display_data"
    }
   ],
   "source": [
    "by_layer = []\n",
    "for i in range(12):\n",
    "    with open(f\"ckpts/{model_name}/{EXPERIMENT_NAME}/layer{i}/metrics.json\", 'r') as f:\n",
    "        metrics = json.load(f)['metrics']\n",
    "        best = max(metrics['test_acc'])\n",
    "        by_layer.append(best)\n",
    "\n",
    "plt.figure(figsize=(8, 5))\n",
    "\n",
    "plt.plot(by_layer)\n",
    "plt.title('Test Accuracy by Layer (Presidents)')\n",
    "plt.xlabel('Layer')\n",
    "plt.ylabel('Test Accuracy')\n",
    "plt.grid(True)\n",
    "\n",
    "plt.tight_layout()\n",
    "plt.show()"
   ]
  }
 ],
 "metadata": {
  "kernelspec": {
   "display_name": "ling",
   "language": "python",
   "name": "python3"
  },
  "language_info": {
   "codemirror_mode": {
    "name": "ipython",
    "version": 3
   },
   "file_extension": ".py",
   "mimetype": "text/x-python",
   "name": "python",
   "nbconvert_exporter": "python",
   "pygments_lexer": "ipython3",
   "version": "3.11.7"
  }
 },
 "nbformat": 4,
 "nbformat_minor": 5
}
