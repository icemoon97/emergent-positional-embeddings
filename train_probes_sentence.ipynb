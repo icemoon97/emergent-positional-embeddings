{
 "cells": [
  {
   "cell_type": "code",
   "execution_count": 63,
   "id": "ad888284",
   "metadata": {},
   "outputs": [],
   "source": [
    "import os\n",
    "import json\n",
    "\n",
    "import matplotlib.pyplot as plt\n",
    "import numpy as np\n",
    "import torch\n",
    "from torch.utils.data import Dataset\n",
    "from tqdm import tqdm\n",
    "import spacy\n",
    "\n",
    "import transformer_lens\n",
    "from probe_model import LinearProbe, Trainer, TrainerConfig"
   ]
  },
  {
   "cell_type": "markdown",
   "id": "a3fe9b37",
   "metadata": {},
   "source": [
    "## Setup"
   ]
  },
  {
   "cell_type": "code",
   "execution_count": 64,
   "id": "b39796f9",
   "metadata": {},
   "outputs": [
    {
     "name": "stdout",
     "output_type": "stream",
     "text": [
      "Device: cuda\n"
     ]
    }
   ],
   "source": [
    "device_name = \"cpu\"\n",
    "if torch.cuda.is_available():\n",
    "    device_name = \"cuda\" # CUDA for NVIDIA GPU\n",
    "\n",
    "device = torch.device(device_name)\n",
    "print(f\"Device: {device_name}\")"
   ]
  },
  {
   "cell_type": "code",
   "execution_count": 65,
   "id": "062e5fd1",
   "metadata": {},
   "outputs": [
    {
     "name": "stdout",
     "output_type": "stream",
     "text": [
      "Loaded pretrained model gpt2-small into HookedTransformer\n"
     ]
    }
   ],
   "source": [
    "model_name = \"gpt2-small\"\n",
    "model = transformer_lens.HookedTransformer.from_pretrained(model_name)"
   ]
  },
  {
   "cell_type": "code",
   "execution_count": 66,
   "id": "9a10a8ae",
   "metadata": {},
   "outputs": [],
   "source": [
    "# Load the spaCy model\n",
    "spacy_model = spacy.load(\"en_core_web_sm\")"
   ]
  },
  {
   "cell_type": "markdown",
   "id": "fcdf677c",
   "metadata": {},
   "source": [
    "## Generate dataset"
   ]
  },
  {
   "cell_type": "markdown",
   "id": "22a86780",
   "metadata": {},
   "source": [
    "### Load text"
   ]
  },
  {
   "cell_type": "code",
   "execution_count": 67,
   "id": "6c18d71a",
   "metadata": {},
   "outputs": [
    {
     "data": {
      "text/plain": [
       "array(['A voice spoke near-at-hand .',\n",
       "       \"Eugenia suspected her of deliberately overturning the heater because she was getting tired of dragging it back and forth and still wanted her own way , but Hope said if Grandma wouldn't have the heater nobody would have it , so Grandma had to give in .\",\n",
       "       'Soon they were all shouting greetings , exchanging smiles , and rejoicing to think that they were all back together again .',\n",
       "       'Two men were on duty inside , playing pinochle , relaxed .',\n",
       "       'I was standing beside her , watching the outspread palms and wondering about the old horsehair sofa against the wall on which he sometimes napped .'],\n",
       "      dtype='<U754')"
      ]
     },
     "execution_count": 67,
     "metadata": {},
     "output_type": "execute_result"
    }
   ],
   "source": [
    "# corpus = 'datasets/prewar.txt'\n",
    "corpus = 'datasets/brown.dev'\n",
    "with open(corpus, 'r') as f:\n",
    "    raw_sentences = [line.rstrip(\"\\n\") for line in f.readlines()]\n",
    "\n",
    "DATASET_CUTOFF = 10000\n",
    "raw_sentences = raw_sentences[:DATASET_CUTOFF]\n",
    "np.random.choice(raw_sentences, 5)"
   ]
  },
  {
   "cell_type": "markdown",
   "id": "8b8e3413",
   "metadata": {},
   "source": [
    "### Generating text sequences with labels (word index)"
   ]
  },
  {
   "cell_type": "code",
   "execution_count": 68,
   "id": "c995ced3",
   "metadata": {},
   "outputs": [],
   "source": [
    "def map_word_index(text, prepend_bos=False):\n",
    "    gpt_tokens = model.to_tokens(text, prepend_bos=prepend_bos).squeeze(0)\n",
    "    gpt_tokens_str = [model.to_single_str_token(int(t)) for t in gpt_tokens]\n",
    "\n",
    "    doc = spacy_model(str(text))\n",
    "    word_idxs = [t.text for t in doc if t.is_alpha]\n",
    "\n",
    "    if not len(word_idxs):\n",
    "        return torch.Tensor(), []\n",
    "\n",
    "    i = 0\n",
    "    cur = 0 # current word index\n",
    "    sub_idx = 0 # sub index of current word\n",
    "\n",
    "    result = []\n",
    "    while i < len(gpt_tokens_str):\n",
    "        t = gpt_tokens_str[i].strip()\n",
    "        # skip if token is just a newline or other whitespace\n",
    "        if not len(t):\n",
    "            result.append((t, i, -1))\n",
    "            i += 1\n",
    "            continue\n",
    "\n",
    "        cur_word = word_idxs[cur]\n",
    "        # if token is part of current word, update sub_idx, continue to next token\n",
    "        if cur_word.find(t, sub_idx) != -1:\n",
    "            result.append((t, i, cur))\n",
    "            sub_idx += len(t)\n",
    "            i += 1\n",
    "        else:\n",
    "            # if token not in cur_word, check next word\n",
    "            if cur+1 < len(word_idxs) and t in word_idxs[cur+1]:\n",
    "                cur += 1\n",
    "                sub_idx = 0\n",
    "            # if not in cur_word or next word, give up and continue\n",
    "            else:\n",
    "                result.append((t, i, -1))\n",
    "                i += 1 \n",
    "\n",
    "    return gpt_tokens, result"
   ]
  },
  {
   "cell_type": "code",
   "execution_count": 7,
   "id": "b8360d48",
   "metadata": {},
   "outputs": [],
   "source": [
    "# check that map_word_index function is working correctly\n",
    "# for s in tqdm(raw_sentences):\n",
    "#     tokens, info = map_word_index(s)\n",
    "#     assert len(tokens) == len(info)"
   ]
  },
  {
   "cell_type": "code",
   "execution_count": 69,
   "id": "5034918c",
   "metadata": {},
   "outputs": [
    {
     "data": {
      "text/plain": [
       "(array([-1,  0,  1,  2,  3,  4,  5,  6,  7,  8,  9, 10, 11, 12, 13, 14, 15,\n",
       "        16, 17, 18, 19, 20, 21, 22, 23, 24, 25, 26, 27, 28, 29, 30, 31, 32,\n",
       "        33, 34, 35, 36]),\n",
       " array([87, 38, 33, 32, 30, 30, 32, 26, 23, 24, 23, 22, 19, 13, 15, 13, 12,\n",
       "         9,  9,  7,  6,  6,  4,  3,  2,  1,  1,  1,  1,  1,  1,  1,  1,  1,\n",
       "         1,  1,  1,  1]))"
      ]
     },
     "execution_count": 69,
     "metadata": {},
     "output_type": "execute_result"
    }
   ],
   "source": [
    "SEQ_LEN = 500\n",
    "\n",
    "def generate_seq():\n",
    "    tokens = model.to_tokens(\"\\n\", prepend_bos=True).squeeze(0)\n",
    "    info = [(\"\\n\", 0, -1)]\n",
    "\n",
    "    while len(tokens) < SEQ_LEN:\n",
    "        next_t, next_info = map_word_index(np.random.choice(raw_sentences))\n",
    "        if len(next_t):\n",
    "            tokens = torch.cat((tokens, next_t))\n",
    "            info.extend(next_info)\n",
    "\n",
    "    word_idx = np.array(list(map(lambda x: x[2], info)))\n",
    "    return tokens, word_idx\n",
    "\n",
    "tokens, word_idx = generate_seq()\n",
    "np.unique(word_idx, return_counts=True)"
   ]
  },
  {
   "cell_type": "markdown",
   "id": "dbe4fdbb",
   "metadata": {},
   "source": [
    "### Generate Embeddings"
   ]
  },
  {
   "cell_type": "code",
   "execution_count": 70,
   "id": "78a08d3d",
   "metadata": {},
   "outputs": [
    {
     "name": "stderr",
     "output_type": "stream",
     "text": [
      "100%|██████████| 1000/1000 [04:56<00:00,  3.37it/s]\n"
     ]
    }
   ],
   "source": [
    "N_SEQS = 1000\n",
    "# cutoff initial tokens because model behavior is weird there\n",
    "PREFIX_CUTOFF = 50\n",
    "\n",
    "torch.set_grad_enabled(False)\n",
    "\n",
    "all_resids = []\n",
    "all_word_idx = []\n",
    "\n",
    "for i_batch in tqdm(range(N_SEQS)):\n",
    "    tokens, word_idx = generate_seq()\n",
    "    # make sure tokens doesn't exceed GPT2's context length\n",
    "    tokens = tokens[:1000]\n",
    "\n",
    "    _, cache = model.run_with_cache(tokens, names_filter=lambda x: x.endswith(\"resid_post\"))\n",
    "    residuals = cache.stack_activation(\"resid_post\")\n",
    "\n",
    "    # residuals.shape = (layer, batch, seq_len, model_residual_dimension)\n",
    "    residuals = residuals[:, 0, PREFIX_CUTOFF+1:, :]\n",
    "    word_idx = word_idx[PREFIX_CUTOFF:]\n",
    "\n",
    "    assert residuals.shape[1] == word_idx.shape[0]\n",
    "\n",
    "    # this mask excludes puncuation and word fragments\n",
    "    mask = word_idx != -1\n",
    "\n",
    "    all_resids.append(residuals.cpu().numpy()[:, mask])\n",
    "    all_word_idx.append(word_idx[mask])\n",
    "\n"
   ]
  },
  {
   "cell_type": "code",
   "execution_count": 22,
   "id": "05de5203",
   "metadata": {},
   "outputs": [
    {
     "name": "stdout",
     "output_type": "stream",
     "text": [
      "(12, 425028, 768)\n",
      "(425028,)\n"
     ]
    }
   ],
   "source": [
    "x_all_layers = np.concatenate(all_resids, axis=1)\n",
    "y_all = np.concatenate(all_word_idx)\n",
    "\n",
    "print(x_all_layers.shape)\n",
    "print(y_all.shape)"
   ]
  },
  {
   "cell_type": "code",
   "execution_count": 57,
   "id": "7d0ed6ad",
   "metadata": {},
   "outputs": [
    {
     "name": "stdout",
     "output_type": "stream",
     "text": [
      "[ 3.  6. 10. 14. 18. 23. 29. 37. 51.]\n"
     ]
    }
   ],
   "source": [
    "N_BUCKETS = 10\n",
    "percentile_buckets = [(100 // N_BUCKETS) * i for i in range(1, N_BUCKETS)]\n",
    "cutoffs = np.percentile(y_all, percentile_buckets)\n",
    "q_binned = np.searchsorted(cutoffs, y_all, side='right')\n",
    "\n",
    "print(cutoffs)"
   ]
  },
  {
   "cell_type": "markdown",
   "id": "034360cf",
   "metadata": {},
   "source": [
    "### filter data"
   ]
  },
  {
   "cell_type": "code",
   "execution_count": 58,
   "id": "fe6df234",
   "metadata": {},
   "outputs": [
    {
     "name": "stdout",
     "output_type": "stream",
     "text": [
      "(425028, 768)\n",
      "(425028,)\n"
     ]
    }
   ],
   "source": [
    "LAYER = 2\n",
    "\n",
    "X = x_all_layers[LAYER, :]\n",
    "Y = q_binned\n",
    "\n",
    "print(X.shape)\n",
    "print(Y.shape)"
   ]
  },
  {
   "cell_type": "markdown",
   "id": "94bf3ee3",
   "metadata": {},
   "source": [
    "## Training Probes"
   ]
  },
  {
   "cell_type": "code",
   "execution_count": 51,
   "id": "d177765b",
   "metadata": {},
   "outputs": [],
   "source": [
    "class ProbingDataset(Dataset):\n",
    "    def __init__(self, act, y):\n",
    "        assert len(act) == len(y)\n",
    "        print(f\"dataset: {len(act)} pairs loaded...\")\n",
    "        self.act = act\n",
    "        self.y = y\n",
    "        print(\"y:\", np.unique(y, return_counts=True))\n",
    "        \n",
    "    def __len__(self, ):\n",
    "        return len(self.y)\n",
    "    \n",
    "    def __getitem__(self, idx):\n",
    "        return torch.tensor(self.act[idx]), torch.tensor(self.y[idx]).long()"
   ]
  },
  {
   "cell_type": "code",
   "execution_count": 52,
   "id": "c5784815",
   "metadata": {
    "scrolled": true
   },
   "outputs": [
    {
     "name": "stdout",
     "output_type": "stream",
     "text": [
      "dataset: 425028 pairs loaded...\n",
      "y: (array([ 0,  1,  2,  3,  4,  5,  6,  7,  8,  9, 10, 11, 12, 13, 14, 15, 16,\n",
      "       17, 18, 19]), array([13348, 25361, 12594, 24847, 24393, 23779, 22814, 21836, 20753,\n",
      "       19512, 18519, 25400, 22510, 19867, 22564, 18804, 22946, 22412,\n",
      "       20528, 22241]))\n",
      "split into [test/train], [85006/340022]\n"
     ]
    }
   ],
   "source": [
    "probing_dataset = ProbingDataset(X, Y)\n",
    "train_size = int(0.8 * len(probing_dataset))\n",
    "test_size = len(probing_dataset) - train_size\n",
    "probe_train_dataset, probe_test_dataset = torch.utils.data.random_split(probing_dataset, [train_size, test_size])\n",
    "print(f\"split into [test/train], [{test_size}/{train_size}]\")"
   ]
  },
  {
   "cell_type": "code",
   "execution_count": 53,
   "id": "0b7aa85c",
   "metadata": {},
   "outputs": [],
   "source": [
    "probe = LinearProbe(device, 768, len(np.unique(Y)))\n",
    "\n",
    "EXPERIMENT_NAME = f\"prewar_{N_BUCKETS}qbin_425k\"\n",
    "folder = f\"ckpts/{model_name}/{EXPERIMENT_NAME}/layer{LAYER}\"\n",
    "if os.path.isdir(folder):\n",
    "    print(f\"Warning, {folder} already exists\")\n",
    "config = TrainerConfig(num_epochs=20, ckpt_path=folder)\n",
    "trainer = Trainer(device, probe, probe_train_dataset, probe_test_dataset, config)"
   ]
  },
  {
   "cell_type": "code",
   "execution_count": 54,
   "id": "8c464d35",
   "metadata": {},
   "outputs": [
    {
     "name": "stderr",
     "output_type": "stream",
     "text": [
      "Epoch 20; Train Loss: 1.97086; Train Acc: 30.708%; Test Acc: 30.225%: 100%|██████████| 20/20 [02:04<00:00,  6.24s/it]\n"
     ]
    }
   ],
   "source": [
    "trainer.train()"
   ]
  },
  {
   "cell_type": "code",
   "execution_count": 55,
   "id": "77299f53",
   "metadata": {},
   "outputs": [
    {
     "name": "stdout",
     "output_type": "stream",
     "text": [
      "              precision    recall  f1-score   support\n",
      "\n",
      "           0     0.9737    0.9870    0.9803      2623\n",
      "           1     0.8429    0.8916    0.8666      5129\n",
      "           2     0.4816    0.5717    0.5228      2517\n",
      "           3     0.5510    0.4730    0.5090      5013\n",
      "           4     0.3953    0.3644    0.3792      4909\n",
      "           5     0.2871    0.4184    0.3405      4763\n",
      "           6     0.2585    0.1528    0.1921      4640\n",
      "           7     0.2025    0.2140    0.2081      4341\n",
      "           8     0.1707    0.2877    0.2143      4146\n",
      "           9     0.1652    0.1424    0.1529      3870\n",
      "          10     0.1558    0.0695    0.0961      3728\n",
      "          11     0.1829    0.1656    0.1738      5036\n",
      "          12     0.1577    0.1372    0.1468      4583\n",
      "          13     0.1310    0.1167    0.1234      4002\n",
      "          14     0.1683    0.0982    0.1240      4511\n",
      "          15     0.1276    0.0345    0.0544      3793\n",
      "          16     0.1503    0.3260    0.2057      4577\n",
      "          17     0.1730    0.1339    0.1510      4354\n",
      "          18     0.2042    0.1953    0.1996      4051\n",
      "          19     0.3267    0.4362    0.3736      4420\n",
      "\n",
      "    accuracy                         0.3022     85006\n",
      "   macro avg     0.3053    0.3108    0.3007     85006\n",
      "weighted avg     0.2975    0.3022    0.2925     85006\n",
      "\n"
     ]
    }
   ],
   "source": [
    "print(trainer.generate_report())"
   ]
  },
  {
   "cell_type": "markdown",
   "id": "4b5a2260",
   "metadata": {},
   "source": [
    "### plotting loss curves"
   ]
  },
  {
   "cell_type": "code",
   "execution_count": 56,
   "id": "72337e52",
   "metadata": {},
   "outputs": [
    {
     "data": {
      "image/png": "[encoded data removed]",
      "text/plain": [
       "<Figure size 1200x500 with 2 Axes>"
      ]
     },
     "metadata": {},
     "output_type": "display_data"
    }
   ],
   "source": [
    "metrics_path = os.path.join(folder, 'metrics.json')\n",
    "\n",
    "# Load the metrics from the JSON file\n",
    "with open(metrics_path, 'r') as f:\n",
    "    metrics = json.load(f)['metrics']\n",
    "\n",
    "# Extract the loss and accuracy data\n",
    "train_loss = metrics['train_loss']\n",
    "test_loss = metrics['test_loss']\n",
    "train_acc = metrics['train_acc']\n",
    "test_acc = metrics['test_acc']\n",
    "\n",
    "# Plot the loss curves\n",
    "plt.figure(figsize=(12, 5))\n",
    "\n",
    "# Loss plot\n",
    "plt.subplot(1, 2, 1)\n",
    "plt.plot(train_loss, label='Training Loss')\n",
    "plt.plot(test_loss, label='Testing Loss')\n",
    "plt.title('Loss Curves')\n",
    "plt.xlabel('Epoch')\n",
    "plt.ylabel('Loss')\n",
    "plt.legend()\n",
    "plt.grid(True)\n",
    "\n",
    "# Accuracy plot\n",
    "plt.subplot(1, 2, 2)\n",
    "plt.plot(train_acc, label='Training Accuracy')\n",
    "plt.plot(test_acc, label='Testing Accuracy')\n",
    "plt.title('Accuracy Curves')\n",
    "plt.xlabel('Epoch')\n",
    "plt.ylabel('Accuracy')\n",
    "plt.legend()\n",
    "plt.grid(True)\n",
    "\n",
    "plt.tight_layout()\n",
    "plt.show()"
   ]
  },
  {
   "cell_type": "markdown",
   "id": "ab10fb9b",
   "metadata": {},
   "source": [
    "### training on all layers"
   ]
  },
  {
   "cell_type": "code",
   "execution_count": 59,
   "id": "1f7e4f48",
   "metadata": {},
   "outputs": [
    {
     "name": "stdout",
     "output_type": "stream",
     "text": [
      "LAYER: 0\n",
      "dataset: 425028 pairs loaded...\n",
      "y: (array([0, 1, 2, 3, 4, 5, 6, 7, 8, 9]), array([38709, 37441, 48172, 44650, 40265, 43919, 42377, 41368, 45358,\n",
      "       42769]))\n"
     ]
    },
    {
     "name": "stderr",
     "output_type": "stream",
     "text": [
      "Epoch 20; Train Loss: 1.83952; Train Acc: 30.759%; Test Acc: 30.706%: 100%|██████████| 20/20 [02:03<00:00,  6.18s/it]\n"
     ]
    },
    {
     "name": "stdout",
     "output_type": "stream",
     "text": [
      "LAYER: 1\n",
      "dataset: 425028 pairs loaded...\n",
      "y: (array([0, 1, 2, 3, 4, 5, 6, 7, 8, 9]), array([38709, 37441, 48172, 44650, 40265, 43919, 42377, 41368, 45358,\n",
      "       42769]))\n"
     ]
    },
    {
     "name": "stderr",
     "output_type": "stream",
     "text": [
      "Epoch 20; Train Loss: 1.50658; Train Acc: 40.624%; Test Acc: 39.540%: 100%|██████████| 20/20 [02:03<00:00,  6.19s/it]\n"
     ]
    },
    {
     "name": "stdout",
     "output_type": "stream",
     "text": [
      "LAYER: 2\n",
      "dataset: 425028 pairs loaded...\n",
      "y: (array([0, 1, 2, 3, 4, 5, 6, 7, 8, 9]), array([38709, 37441, 48172, 44650, 40265, 43919, 42377, 41368, 45358,\n",
      "       42769]))\n"
     ]
    },
    {
     "name": "stderr",
     "output_type": "stream",
     "text": [
      "Epoch 20; Train Loss: 1.36533; Train Acc: 44.917%; Test Acc: 44.711%: 100%|██████████| 20/20 [02:04<00:00,  6.25s/it]\n"
     ]
    },
    {
     "name": "stdout",
     "output_type": "stream",
     "text": [
      "LAYER: 3\n",
      "dataset: 425028 pairs loaded...\n",
      "y: (array([0, 1, 2, 3, 4, 5, 6, 7, 8, 9]), array([38709, 37441, 48172, 44650, 40265, 43919, 42377, 41368, 45358,\n",
      "       42769]))\n"
     ]
    },
    {
     "name": "stderr",
     "output_type": "stream",
     "text": [
      "Epoch 20; Train Loss: 1.37073; Train Acc: 44.926%; Test Acc: 44.669%: 100%|██████████| 20/20 [02:04<00:00,  6.20s/it]\n"
     ]
    },
    {
     "name": "stdout",
     "output_type": "stream",
     "text": [
      "LAYER: 4\n",
      "dataset: 425028 pairs loaded...\n",
      "y: (array([0, 1, 2, 3, 4, 5, 6, 7, 8, 9]), array([38709, 37441, 48172, 44650, 40265, 43919, 42377, 41368, 45358,\n",
      "       42769]))\n"
     ]
    },
    {
     "name": "stderr",
     "output_type": "stream",
     "text": [
      "Epoch 20; Train Loss: 1.33381; Train Acc: 45.876%; Test Acc: 45.453%: 100%|██████████| 20/20 [02:03<00:00,  6.16s/it]\n"
     ]
    },
    {
     "name": "stdout",
     "output_type": "stream",
     "text": [
      "LAYER: 5\n",
      "dataset: 425028 pairs loaded...\n",
      "y: (array([0, 1, 2, 3, 4, 5, 6, 7, 8, 9]), array([38709, 37441, 48172, 44650, 40265, 43919, 42377, 41368, 45358,\n",
      "       42769]))\n"
     ]
    },
    {
     "name": "stderr",
     "output_type": "stream",
     "text": [
      "Epoch 20; Train Loss: 1.30361; Train Acc: 46.558%; Test Acc: 46.863%: 100%|██████████| 20/20 [02:04<00:00,  6.24s/it]\n"
     ]
    },
    {
     "name": "stdout",
     "output_type": "stream",
     "text": [
      "LAYER: 6\n",
      "dataset: 425028 pairs loaded...\n",
      "y: (array([0, 1, 2, 3, 4, 5, 6, 7, 8, 9]), array([38709, 37441, 48172, 44650, 40265, 43919, 42377, 41368, 45358,\n",
      "       42769]))\n"
     ]
    },
    {
     "name": "stderr",
     "output_type": "stream",
     "text": [
      "Epoch 20; Train Loss: 1.31576; Train Acc: 46.171%; Test Acc: 45.631%: 100%|██████████| 20/20 [02:05<00:00,  6.25s/it]\n"
     ]
    },
    {
     "name": "stdout",
     "output_type": "stream",
     "text": [
      "LAYER: 7\n",
      "dataset: 425028 pairs loaded...\n",
      "y: (array([0, 1, 2, 3, 4, 5, 6, 7, 8, 9]), array([38709, 37441, 48172, 44650, 40265, 43919, 42377, 41368, 45358,\n",
      "       42769]))\n"
     ]
    },
    {
     "name": "stderr",
     "output_type": "stream",
     "text": [
      "Epoch 20; Train Loss: 1.36286; Train Acc: 44.384%; Test Acc: 44.286%: 100%|██████████| 20/20 [02:04<00:00,  6.23s/it]\n"
     ]
    },
    {
     "name": "stdout",
     "output_type": "stream",
     "text": [
      "LAYER: 8\n",
      "dataset: 425028 pairs loaded...\n",
      "y: (array([0, 1, 2, 3, 4, 5, 6, 7, 8, 9]), array([38709, 37441, 48172, 44650, 40265, 43919, 42377, 41368, 45358,\n",
      "       42769]))\n"
     ]
    },
    {
     "name": "stderr",
     "output_type": "stream",
     "text": [
      "Epoch 20; Train Loss: 1.46010; Train Acc: 41.489%; Test Acc: 41.067%: 100%|██████████| 20/20 [02:03<00:00,  6.19s/it]\n"
     ]
    },
    {
     "name": "stdout",
     "output_type": "stream",
     "text": [
      "LAYER: 9\n",
      "dataset: 425028 pairs loaded...\n",
      "y: (array([0, 1, 2, 3, 4, 5, 6, 7, 8, 9]), array([38709, 37441, 48172, 44650, 40265, 43919, 42377, 41368, 45358,\n",
      "       42769]))\n"
     ]
    },
    {
     "name": "stderr",
     "output_type": "stream",
     "text": [
      "Epoch 20; Train Loss: 1.58281; Train Acc: 37.902%; Test Acc: 37.037%: 100%|██████████| 20/20 [02:04<00:00,  6.20s/it]\n"
     ]
    },
    {
     "name": "stdout",
     "output_type": "stream",
     "text": [
      "LAYER: 10\n",
      "dataset: 425028 pairs loaded...\n",
      "y: (array([0, 1, 2, 3, 4, 5, 6, 7, 8, 9]), array([38709, 37441, 48172, 44650, 40265, 43919, 42377, 41368, 45358,\n",
      "       42769]))\n"
     ]
    },
    {
     "name": "stderr",
     "output_type": "stream",
     "text": [
      "Epoch 20; Train Loss: 1.70084; Train Acc: 34.789%; Test Acc: 34.483%: 100%|██████████| 20/20 [02:04<00:00,  6.24s/it]\n"
     ]
    },
    {
     "name": "stdout",
     "output_type": "stream",
     "text": [
      "LAYER: 11\n",
      "dataset: 425028 pairs loaded...\n",
      "y: (array([0, 1, 2, 3, 4, 5, 6, 7, 8, 9]), array([38709, 37441, 48172, 44650, 40265, 43919, 42377, 41368, 45358,\n",
      "       42769]))\n"
     ]
    },
    {
     "name": "stderr",
     "output_type": "stream",
     "text": [
      "Epoch 20; Train Loss: 1.84143; Train Acc: 31.609%; Test Acc: 32.026%: 100%|██████████| 20/20 [02:03<00:00,  6.20s/it]\n"
     ]
    }
   ],
   "source": [
    "for LAYER in range(x_all_layers.shape[0]):\n",
    "    print(f\"LAYER: {LAYER}\")\n",
    "    X = x_all_layers[LAYER, :]\n",
    "\n",
    "    probing_dataset = ProbingDataset(X, Y)\n",
    "    train_size = int(0.8 * len(probing_dataset))\n",
    "    test_size = len(probing_dataset) - train_size\n",
    "    probe_train_dataset, probe_test_dataset = torch.utils.data.random_split(probing_dataset, [train_size, test_size])\n",
    "\n",
    "    probe = LinearProbe(device, 768, len(np.unique(Y)))\n",
    "\n",
    "    EXPERIMENT_NAME = f\"prewar_{N_BUCKETS}qbin_425k\"\n",
    "    folder = f\"ckpts/{model_name}/{EXPERIMENT_NAME}/layer{LAYER}\"\n",
    "    if os.path.isdir(folder):\n",
    "        print(f\"Warning, {folder} already exists\")\n",
    "    config = TrainerConfig(num_epochs=20, ckpt_path=folder)\n",
    "    trainer = Trainer(device, probe, probe_train_dataset, probe_test_dataset, config)\n",
    "\n",
    "    trainer.train()"
   ]
  },
  {
   "cell_type": "code",
   "execution_count": 62,
   "id": "7d952ec6",
   "metadata": {},
   "outputs": [
    {
     "data": {
      "image/png": "[encoded data removed]",
      "text/plain": [
       "<Figure size 800x500 with 1 Axes>"
      ]
     },
     "metadata": {},
     "output_type": "display_data"
    }
   ],
   "source": [
    "by_layer = []\n",
    "for i in range(12):\n",
    "    with open(f\"ckpts/{model_name}/{EXPERIMENT_NAME}/layer{i}/metrics.json\", 'r') as f:\n",
    "        metrics = json.load(f)['metrics']\n",
    "        best = max(metrics['test_acc'])\n",
    "        by_layer.append(best)\n",
    "\n",
    "plt.figure(figsize=(8, 5))\n",
    "\n",
    "plt.plot(by_layer)\n",
    "plt.title('Test Accuracy by Layer (Presidents)')\n",
    "plt.xlabel('Layer')\n",
    "plt.ylabel('Test Accuracy')\n",
    "plt.grid(True)\n",
    "\n",
    "plt.tight_layout()\n",
    "plt.show()"
   ]
  }
 ],
 "metadata": {
  "kernelspec": {
   "display_name": "ling",
   "language": "python",
   "name": "python3"
  },
  "language_info": {
   "codemirror_mode": {
    "name": "ipython",
    "version": 3
   },
   "file_extension": ".py",
   "mimetype": "text/x-python",
   "name": "python",
   "nbconvert_exporter": "python",
   "pygments_lexer": "ipython3",
   "version": "3.11.7"
  }
 },
 "nbformat": 4,
 "nbformat_minor": 5
}
