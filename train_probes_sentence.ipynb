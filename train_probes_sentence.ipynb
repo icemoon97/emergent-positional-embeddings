{
 "cells": [
  {
   "cell_type": "code",
   "execution_count": 1,
   "id": "ad888284",
   "metadata": {},
   "outputs": [],
   "source": [
    "import os\n",
    "import json\n",
    "import random\n",
    "\n",
    "import matplotlib.pyplot as plt\n",
    "import numpy as np\n",
    "import torch\n",
    "from torch.utils.data import Dataset\n",
    "from tqdm import tqdm\n",
    "import spacy\n",
    "\n",
    "import transformer_lens\n",
    "from probe_model import LinearProbe, Trainer, TrainerConfig"
   ]
  },
  {
   "cell_type": "markdown",
   "id": "a3fe9b37",
   "metadata": {},
   "source": [
    "## Setup"
   ]
  },
  {
   "cell_type": "code",
   "execution_count": 2,
   "id": "b39796f9",
   "metadata": {},
   "outputs": [
    {
     "name": "stdout",
     "output_type": "stream",
     "text": [
      "Device: cuda\n"
     ]
    }
   ],
   "source": [
    "device_name = \"cpu\"\n",
    "if torch.cuda.is_available():\n",
    "    device_name = \"cuda\" # CUDA for NVIDIA GPU\n",
    "\n",
    "device = torch.device(device_name)\n",
    "print(f\"Device: {device_name}\")"
   ]
  },
  {
   "cell_type": "code",
   "execution_count": 3,
   "id": "062e5fd1",
   "metadata": {},
   "outputs": [
    {
     "name": "stdout",
     "output_type": "stream",
     "text": [
      "Loaded pretrained model gpt2-small into HookedTransformer\n"
     ]
    }
   ],
   "source": [
    "model_name = \"gpt2-small\"\n",
    "model = transformer_lens.HookedTransformer.from_pretrained(model_name)"
   ]
  },
  {
   "cell_type": "code",
   "execution_count": 4,
   "id": "9a10a8ae",
   "metadata": {},
   "outputs": [],
   "source": [
    "# Load the spaCy model\n",
    "spacy_model = spacy.load(\"en_core_web_sm\")"
   ]
  },
  {
   "cell_type": "markdown",
   "id": "fcdf677c",
   "metadata": {},
   "source": [
    "## Generate dataset"
   ]
  },
  {
   "cell_type": "markdown",
   "id": "22a86780",
   "metadata": {},
   "source": [
    "### Load text"
   ]
  },
  {
   "cell_type": "code",
   "execution_count": 76,
   "id": "6c18d71a",
   "metadata": {},
   "outputs": [
    {
     "data": {
      "text/plain": [
       "array([\"`` I ain't drawin' against you '' , Jess said thickly .\",\n",
       "       \"`` Too much fooling around '' , he said .\",\n",
       "       'How could he comprehend her need when he himself was innocent ? ?',\n",
       "       'Facing the forest now , she who had not dared to enter it before , walked between two trees at random and headed in what she believed was the direction of the pool .',\n",
       "       \"But '' --\"], dtype='<U284')"
      ]
     },
     "execution_count": 76,
     "metadata": {},
     "output_type": "execute_result"
    }
   ],
   "source": [
    "with open('datasets/brown.dev', 'r') as f:\n",
    "    raw_sentences = [line.rstrip(\"\\n\") for line in f.readlines()]\n",
    "\n",
    "DATASET_CUTOFF = 2000\n",
    "raw_sentences = raw_sentences[:DATASET_CUTOFF]\n",
    "np.random.choice(raw_sentences, 5)"
   ]
  },
  {
   "cell_type": "markdown",
   "id": "8b8e3413",
   "metadata": {},
   "source": [
    "### Generating text sequences with labels (word index)"
   ]
  },
  {
   "cell_type": "code",
   "execution_count": 77,
   "id": "c995ced3",
   "metadata": {},
   "outputs": [],
   "source": [
    "def map_word_index(text, prepend_bos=False):\n",
    "    gpt_tokens = model.to_tokens(text, prepend_bos=prepend_bos).squeeze(0)\n",
    "    gpt_tokens_str = [model.to_single_str_token(int(t)) for t in gpt_tokens]\n",
    "\n",
    "    doc = spacy_model(str(text))\n",
    "    word_idxs = [t.text for t in doc if t.is_alpha]\n",
    "\n",
    "    if not len(word_idxs):\n",
    "        return torch.Tensor(), []\n",
    "\n",
    "    i = 0\n",
    "    cur = 0 # current word index\n",
    "    sub_idx = 0 # sub index of current word\n",
    "\n",
    "    result = []\n",
    "    while i < len(gpt_tokens_str):\n",
    "        t = gpt_tokens_str[i].strip()\n",
    "        # skip if token is just a newline or other whitespace\n",
    "        if not len(t):\n",
    "            result.append((t, i, -1))\n",
    "            i += 1\n",
    "            continue\n",
    "\n",
    "        cur_word = word_idxs[cur]\n",
    "        # if token is part of current word, update sub_idx, continue to next token\n",
    "        if cur_word.find(t, sub_idx) != -1:\n",
    "            result.append((t, i, cur))\n",
    "            sub_idx += len(t)\n",
    "            i += 1\n",
    "        else:\n",
    "            # if token not in cur_word, check next word\n",
    "            if cur+1 < len(word_idxs) and t in word_idxs[cur+1]:\n",
    "                cur += 1\n",
    "                sub_idx = 0\n",
    "            # if not in cur_word or next word, give up and continue\n",
    "            else:\n",
    "                result.append((t, i, -1))\n",
    "                i += 1 \n",
    "\n",
    "    return gpt_tokens, result"
   ]
  },
  {
   "cell_type": "code",
   "execution_count": null,
   "id": "b8360d48",
   "metadata": {},
   "outputs": [],
   "source": [
    "# check that map_word_index function is working correctly\n",
    "# for s in tqdm(raw_sentences):\n",
    "#     tokens, info = map_word_index(s)\n",
    "#     assert len(tokens) == len(info)"
   ]
  },
  {
   "cell_type": "code",
   "execution_count": 89,
   "id": "5034918c",
   "metadata": {},
   "outputs": [
    {
     "data": {
      "text/plain": [
       "(array([-1,  0,  1,  2,  3,  4,  5,  6,  7,  8,  9, 10, 11, 12, 13, 14, 15,\n",
       "        16, 17, 18, 19, 20, 21, 22, 23, 24, 25, 26]),\n",
       " array([35, 18, 17, 14, 14, 10, 10, 12, 10,  9,  8,  7,  6,  6,  3,  3,  2,\n",
       "         3,  2,  2,  2,  2,  2,  1,  1,  1,  1,  1]))"
      ]
     },
     "execution_count": 89,
     "metadata": {},
     "output_type": "execute_result"
    }
   ],
   "source": [
    "SEQ_LEN = 200\n",
    "\n",
    "def generate_seq():\n",
    "    tokens = model.to_tokens(\"\\n\", prepend_bos=True).squeeze(0)\n",
    "    info = [(\"\\n\", 0, -1)]\n",
    "\n",
    "    while len(tokens) < SEQ_LEN:\n",
    "        next_t, next_info = map_word_index(np.random.choice(raw_sentences))\n",
    "        if len(next_t):\n",
    "            tokens = torch.cat((tokens, next_t))\n",
    "            info.extend(next_info)\n",
    "\n",
    "    labels = np.array(list(map(lambda x: x[2], info)))\n",
    "    return tokens, labels\n",
    "\n",
    "tokens, labels = generate_seq()\n",
    "np.unique(labels, return_counts=True)"
   ]
  },
  {
   "cell_type": "markdown",
   "id": "dbe4fdbb",
   "metadata": {},
   "source": [
    "### Generate Embeddings"
   ]
  },
  {
   "cell_type": "code",
   "execution_count": 91,
   "id": "78a08d3d",
   "metadata": {},
   "outputs": [
    {
     "name": "stderr",
     "output_type": "stream",
     "text": [
      "100%|██████████| 1000/1000 [01:49<00:00,  9.12it/s]\n"
     ]
    }
   ],
   "source": [
    "N_SEQS = 1000\n",
    "# cutoff initial tokens because model behavior is weird there\n",
    "PREFIX_CUTOFF = 10\n",
    "\n",
    "torch.set_grad_enabled(False)\n",
    "\n",
    "all_resids = []\n",
    "all_labels = []\n",
    "\n",
    "for i_batch in tqdm(range(N_SEQS)):\n",
    "    tokens, labels = generate_seq()\n",
    "\n",
    "    _, cache = model.run_with_cache(tokens, names_filter=lambda x: x.endswith(\"resid_post\"))\n",
    "    residuals = cache.stack_activation(\"resid_post\")\n",
    "\n",
    "    # residuals.shape = (layer, batch, seq_len, model_residual_dimension)\n",
    "    residuals = residuals[:, 0, PREFIX_CUTOFF+1:, :]\n",
    "    labels = labels[PREFIX_CUTOFF:]\n",
    "\n",
    "    assert residuals.shape[1] == labels.shape[0]\n",
    "\n",
    "    # this mask excludes puncuation and word fragments\n",
    "    mask = labels != -1\n",
    "\n",
    "    all_resids.append(residuals.cpu().numpy()[:, mask])\n",
    "    all_labels.append(labels[mask])\n",
    "\n"
   ]
  },
  {
   "cell_type": "code",
   "execution_count": 92,
   "id": "fe6df234",
   "metadata": {},
   "outputs": [
    {
     "name": "stdout",
     "output_type": "stream",
     "text": [
      "(12, 104490, 768)\n",
      "(104490,)\n"
     ]
    }
   ],
   "source": [
    "x_all_layers = np.concatenate(all_resids, axis=1)\n",
    "y = np.concatenate(all_labels)\n",
    "\n",
    "mask = y <= 9\n",
    "x_all_layers = x_all_layers[:, mask]\n",
    "y = y[mask]\n",
    "\n",
    "print(x_all_layers.shape)\n",
    "print(y.shape)"
   ]
  },
  {
   "cell_type": "markdown",
   "id": "94bf3ee3",
   "metadata": {},
   "source": [
    "## Training Probes"
   ]
  },
  {
   "cell_type": "code",
   "execution_count": 93,
   "id": "d177765b",
   "metadata": {},
   "outputs": [],
   "source": [
    "class ProbingDataset(Dataset):\n",
    "    def __init__(self, act, y):\n",
    "        assert len(act) == len(y)\n",
    "        print(f\"dataset: {len(act)} pairs loaded...\")\n",
    "        self.act = act\n",
    "        self.y = y\n",
    "        print(\"y:\", np.unique(y, return_counts=True))\n",
    "        \n",
    "    def __len__(self, ):\n",
    "        return len(self.y)\n",
    "    \n",
    "    def __getitem__(self, idx):\n",
    "        return torch.tensor(self.act[idx]), torch.tensor(self.y[idx]).long()"
   ]
  },
  {
   "cell_type": "code",
   "execution_count": 94,
   "id": "c5784815",
   "metadata": {
    "scrolled": true
   },
   "outputs": [
    {
     "name": "stdout",
     "output_type": "stream",
     "text": [
      "dataset: 104490 pairs loaded...\n",
      "y: (array([0, 1, 2, 3, 4, 5, 6, 7, 8, 9]), array([14233, 12735, 12065, 11498, 10878, 10042,  9304,  8521,  7838,\n",
      "        7376]))\n",
      "split into [test/train], [20898/83592]\n"
     ]
    }
   ],
   "source": [
    "LAYER = 3\n",
    "x = x_all_layers[LAYER, :, :]\n",
    "\n",
    "probing_dataset = ProbingDataset(x, y)\n",
    "train_size = int(0.8 * len(probing_dataset))\n",
    "test_size = len(probing_dataset) - train_size\n",
    "probe_train_dataset, probe_test_dataset = torch.utils.data.random_split(probing_dataset, [train_size, test_size])\n",
    "print(f\"split into [test/train], [{test_size}/{train_size}]\")"
   ]
  },
  {
   "cell_type": "code",
   "execution_count": 95,
   "id": "0b7aa85c",
   "metadata": {},
   "outputs": [],
   "source": [
    "probe = LinearProbe(device, 768, 10)\n",
    "\n",
    "EXPERIMENT_NAME = \"brown_test_104k\"\n",
    "folder = f\"ckpts/{model_name}/{EXPERIMENT_NAME}/layer{LAYER}\"\n",
    "config = TrainerConfig(num_epochs=40, ckpt_path=folder)\n",
    "trainer = Trainer(device, probe, probe_train_dataset, probe_test_dataset, config)"
   ]
  },
  {
   "cell_type": "code",
   "execution_count": 96,
   "id": "8c464d35",
   "metadata": {},
   "outputs": [
    {
     "name": "stderr",
     "output_type": "stream",
     "text": [
      "Epoch 40; Train Loss: 0.78795; Train Acc: 69.196%; Test Acc: 67.844%: 100%|██████████| 40/40 [00:59<00:00,  1.48s/it]\n"
     ]
    }
   ],
   "source": [
    "trainer.train()"
   ]
  },
  {
   "cell_type": "code",
   "execution_count": 97,
   "id": "77299f53",
   "metadata": {},
   "outputs": [
    {
     "name": "stdout",
     "output_type": "stream",
     "text": [
      "              precision    recall  f1-score   support\n",
      "\n",
      "           0     0.9973    0.9949    0.9961      2949\n",
      "           1     0.9595    0.9556    0.9576      2408\n",
      "           2     0.8379    0.8455    0.8417      2440\n",
      "           3     0.6531    0.6871    0.6697      2285\n",
      "           4     0.5585    0.5997    0.5784      2221\n",
      "           5     0.5079    0.4816    0.4944      2006\n",
      "           6     0.4581    0.4004    0.4273      1843\n",
      "           7     0.4107    0.4628    0.4352      1694\n",
      "           8     0.4696    0.4483    0.4587      1604\n",
      "           9     0.5694    0.5325    0.5503      1448\n",
      "\n",
      "    accuracy                         0.6784     20898\n",
      "   macro avg     0.6422    0.6408    0.6409     20898\n",
      "weighted avg     0.6778    0.6784    0.6776     20898\n",
      "\n"
     ]
    }
   ],
   "source": [
    "print(trainer.generate_report())"
   ]
  },
  {
   "cell_type": "markdown",
   "id": "4b5a2260",
   "metadata": {},
   "source": [
    "### plotting loss curves"
   ]
  },
  {
   "cell_type": "code",
   "execution_count": 98,
   "id": "72337e52",
   "metadata": {},
   "outputs": [
    {
     "data": {
      "image/png": "[encoded data removed]",
      "text/plain": [
       "<Figure size 1200x500 with 2 Axes>"
      ]
     },
     "metadata": {},
     "output_type": "display_data"
    }
   ],
   "source": [
    "metrics_path = os.path.join(folder, 'metrics.json')\n",
    "\n",
    "# Load the metrics from the JSON file\n",
    "with open(metrics_path, 'r') as f:\n",
    "    metrics = json.load(f)['metrics']\n",
    "\n",
    "# Extract the loss and accuracy data\n",
    "train_loss = metrics['train_loss']\n",
    "test_loss = metrics['test_loss']\n",
    "train_acc = metrics['train_acc']\n",
    "test_acc = metrics['test_acc']\n",
    "\n",
    "# Plot the loss curves\n",
    "plt.figure(figsize=(12, 5))\n",
    "\n",
    "# Loss plot\n",
    "plt.subplot(1, 2, 1)\n",
    "plt.plot(train_loss, label='Training Loss')\n",
    "plt.plot(test_loss, label='Testing Loss')\n",
    "plt.title('Loss Curves')\n",
    "plt.xlabel('Epoch')\n",
    "plt.ylabel('Loss')\n",
    "plt.legend()\n",
    "plt.grid(True)\n",
    "\n",
    "# Accuracy plot\n",
    "plt.subplot(1, 2, 2)\n",
    "plt.plot(train_acc, label='Training Accuracy')\n",
    "plt.plot(test_acc, label='Testing Accuracy')\n",
    "plt.title('Accuracy Curves')\n",
    "plt.xlabel('Epoch')\n",
    "plt.ylabel('Accuracy')\n",
    "plt.legend()\n",
    "plt.grid(True)\n",
    "\n",
    "plt.tight_layout()\n",
    "plt.show()"
   ]
  }
 ],
 "metadata": {
  "kernelspec": {
   "display_name": "ling",
   "language": "python",
   "name": "python3"
  },
  "language_info": {
   "codemirror_mode": {
    "name": "ipython",
    "version": 3
   },
   "file_extension": ".py",
   "mimetype": "text/x-python",
   "name": "python",
   "nbconvert_exporter": "python",
   "pygments_lexer": "ipython3",
   "version": "3.11.7"
  }
 },
 "nbformat": 4,
 "nbformat_minor": 5
}
