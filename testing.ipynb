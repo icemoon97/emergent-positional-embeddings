{
 "cells": [
  {
   "cell_type": "code",
   "execution_count": 1,
   "metadata": {},
   "outputs": [
    {
     "name": "stderr",
     "output_type": "stream",
     "text": [
      "/home/jnb5885/miniconda3/envs/ling/lib/python3.11/site-packages/tqdm/auto.py:21: TqdmWarning: IProgress not found. Please update jupyter and ipywidgets. See https://ipywidgets.readthedocs.io/en/stable/user_install.html\n",
      "  from .autonotebook import tqdm as notebook_tqdm\n"
     ]
    }
   ],
   "source": [
    "import transformer_lens\n",
    "import torch\n",
    "\n",
    "import numpy as np\n",
    "import pandas as pd\n",
    "import matplotlib.pyplot as plt\n",
    "\n",
    "from tqdm import tqdm"
   ]
  },
  {
   "cell_type": "code",
   "execution_count": 2,
   "metadata": {},
   "outputs": [
    {
     "name": "stdout",
     "output_type": "stream",
     "text": [
      "Device: cuda\n"
     ]
    }
   ],
   "source": [
    "device_name = \"cpu\"\n",
    "if torch.cuda.is_available():\n",
    "    device_name = \"cuda\" # CUDA for NVIDIA GPU\n",
    "\n",
    "device = torch.device(device_name)\n",
    "print(f\"Device: {device_name}\")"
   ]
  },
  {
   "cell_type": "code",
   "execution_count": 3,
   "metadata": {},
   "outputs": [
    {
     "name": "stdout",
     "output_type": "stream",
     "text": [
      "Loaded pretrained model gpt2-small into HookedTransformer\n"
     ]
    }
   ],
   "source": [
    "# Load a model (eg GPT-2 Small)\n",
    "model = transformer_lens.HookedTransformer.from_pretrained(\"gpt2-small\")\n",
    "\n",
    "# Run the model and get logits and activations\n",
    "logits, activations = model.run_with_cache(\"Hello World\")"
   ]
  },
  {
   "cell_type": "markdown",
   "metadata": {},
   "source": [
    "## tokens"
   ]
  },
  {
   "cell_type": "code",
   "execution_count": 4,
   "metadata": {},
   "outputs": [
    {
     "data": {
      "text/plain": [
       "array(['and', 'unauthorized', 'federal', ..., 'voluntary', 'austin',\n",
       "       'implemented'], dtype='<U22')"
      ]
     },
     "execution_count": 4,
     "metadata": {},
     "output_type": "execute_result"
    }
   ],
   "source": [
    "N_WORDS = 10000\n",
    "with open('common_words.txt', 'r') as file:\n",
    "    words = np.random.choice([l.rstrip(\"\\n\") for l in file.readlines()], N_WORDS)\n",
    "\n",
    "words"
   ]
  },
  {
   "cell_type": "code",
   "execution_count": 5,
   "metadata": {},
   "outputs": [
    {
     "data": {
      "text/html": [
       "<div>\n",
       "<style scoped>\n",
       "    .dataframe tbody tr th:only-of-type {\n",
       "        vertical-align: middle;\n",
       "    }\n",
       "\n",
       "    .dataframe tbody tr th {\n",
       "        vertical-align: top;\n",
       "    }\n",
       "\n",
       "    .dataframe thead th {\n",
       "        text-align: right;\n",
       "    }\n",
       "</style>\n",
       "<table border=\"1\" class=\"dataframe\">\n",
       "  <thead>\n",
       "    <tr style=\"text-align: right;\">\n",
       "      <th></th>\n",
       "      <th>word</th>\n",
       "      <th>n_tokens</th>\n",
       "      <th>n_tokens_space</th>\n",
       "    </tr>\n",
       "  </thead>\n",
       "  <tbody>\n",
       "    <tr>\n",
       "      <th>0</th>\n",
       "      <td>and</td>\n",
       "      <td>1</td>\n",
       "      <td>1</td>\n",
       "    </tr>\n",
       "    <tr>\n",
       "      <th>1</th>\n",
       "      <td>unauthorized</td>\n",
       "      <td>3</td>\n",
       "      <td>1</td>\n",
       "    </tr>\n",
       "    <tr>\n",
       "      <th>2</th>\n",
       "      <td>federal</td>\n",
       "      <td>2</td>\n",
       "      <td>1</td>\n",
       "    </tr>\n",
       "    <tr>\n",
       "      <th>3</th>\n",
       "      <td>kid</td>\n",
       "      <td>1</td>\n",
       "      <td>1</td>\n",
       "    </tr>\n",
       "    <tr>\n",
       "      <th>4</th>\n",
       "      <td>mainland</td>\n",
       "      <td>2</td>\n",
       "      <td>1</td>\n",
       "    </tr>\n",
       "    <tr>\n",
       "      <th>...</th>\n",
       "      <td>...</td>\n",
       "      <td>...</td>\n",
       "      <td>...</td>\n",
       "    </tr>\n",
       "    <tr>\n",
       "      <th>9995</th>\n",
       "      <td>betty</td>\n",
       "      <td>2</td>\n",
       "      <td>2</td>\n",
       "    </tr>\n",
       "    <tr>\n",
       "      <th>9996</th>\n",
       "      <td>polyphonic</td>\n",
       "      <td>3</td>\n",
       "      <td>3</td>\n",
       "    </tr>\n",
       "    <tr>\n",
       "      <th>9997</th>\n",
       "      <td>voluntary</td>\n",
       "      <td>2</td>\n",
       "      <td>1</td>\n",
       "    </tr>\n",
       "    <tr>\n",
       "      <th>9998</th>\n",
       "      <td>austin</td>\n",
       "      <td>3</td>\n",
       "      <td>2</td>\n",
       "    </tr>\n",
       "    <tr>\n",
       "      <th>9999</th>\n",
       "      <td>implemented</td>\n",
       "      <td>3</td>\n",
       "      <td>1</td>\n",
       "    </tr>\n",
       "  </tbody>\n",
       "</table>\n",
       "<p>10000 rows × 3 columns</p>\n",
       "</div>"
      ],
      "text/plain": [
       "              word  n_tokens  n_tokens_space\n",
       "0              and         1               1\n",
       "1     unauthorized         3               1\n",
       "2          federal         2               1\n",
       "3              kid         1               1\n",
       "4         mainland         2               1\n",
       "...            ...       ...             ...\n",
       "9995         betty         2               2\n",
       "9996    polyphonic         3               3\n",
       "9997     voluntary         2               1\n",
       "9998        austin         3               2\n",
       "9999   implemented         3               1\n",
       "\n",
       "[10000 rows x 3 columns]"
      ]
     },
     "execution_count": 5,
     "metadata": {},
     "output_type": "execute_result"
    }
   ],
   "source": [
    "word_len_dict = {}\n",
    "rows = []\n",
    "for w in words:\n",
    "    t = len(model.to_tokens(w, prepend_bos=False).squeeze(0))\n",
    "    t_space = len(model.to_tokens(f\" {w}\", prepend_bos=False).squeeze(0))\n",
    "    word_len_dict[w] = t_space\n",
    "    row = {\n",
    "        \"word\": w,\n",
    "        \"n_tokens\": t,\n",
    "        \"n_tokens_space\": t_space\n",
    "    }\n",
    "    rows.append(row)\n",
    "\n",
    "word_df = pd.DataFrame(rows)\n",
    "word_df"
   ]
  },
  {
   "cell_type": "code",
   "execution_count": 6,
   "metadata": {},
   "outputs": [
    {
     "data": {
      "image/png": "[encoded data removed]",
      "text/plain": [
       "<Figure size 1000x600 with 1 Axes>"
      ]
     },
     "metadata": {},
     "output_type": "display_data"
    }
   ],
   "source": [
    "plt.figure(figsize=(10, 6))\n",
    "plt.hist(word_df['n_tokens_space'], bins=len(word_df['n_tokens_space'].unique())-1, edgecolor='k')\n",
    "plt.xlabel('number of tokens per word')\n",
    "plt.ylabel('freq')\n",
    "plt.show()"
   ]
  },
  {
   "cell_type": "markdown",
   "metadata": {},
   "source": [
    "## building dataset"
   ]
  },
  {
   "cell_type": "code",
   "execution_count": 7,
   "metadata": {},
   "outputs": [],
   "source": [
    "word_len = np.vectorize(lambda x: word_len_dict[x])"
   ]
  },
  {
   "cell_type": "code",
   "execution_count": 8,
   "metadata": {},
   "outputs": [],
   "source": [
    "PREFIX = \"Welcome to my blog. \"\n",
    "BATCH_SIZE = 256\n",
    "N_SAMPLE = 20\n",
    "\n",
    "prefix_len = len(model.to_tokens(PREFIX, prepend_bos=True).squeeze(0)) - 1\n",
    "\n",
    "def generate_batch():\n",
    "    batch_words = []\n",
    "    for i in range(BATCH_SIZE):\n",
    "        sampled = np.random.choice(words, N_SAMPLE)\n",
    "\n",
    "        batch_words.append(sampled)\n",
    "\n",
    "    tokens = model.to_tokens([PREFIX + \" \".join(s) for s in batch_words], prepend_bos=True)\n",
    "    mapped_len = word_len(batch_words)\n",
    "\n",
    "    word_idxs = np.ones((BATCH_SIZE, N_SAMPLE * 3)) * -1\n",
    "    for i, r in enumerate(mapped_len):\n",
    "        row = np.repeat(np.arange(N_SAMPLE), r)\n",
    "        word_idxs[i, :len(row)] = row\n",
    "\n",
    "    return tokens, word_idxs"
   ]
  },
  {
   "cell_type": "code",
   "execution_count": 9,
   "metadata": {},
   "outputs": [
    {
     "name": "stderr",
     "output_type": "stream",
     "text": [
      "100%|██████████| 5/5 [00:01<00:00,  2.99it/s]\n"
     ]
    }
   ],
   "source": [
    "DATA_BATCHES = 5\n",
    "\n",
    "torch.set_grad_enabled(False)\n",
    "\n",
    "all_resids = []\n",
    "all_word_idxs = []\n",
    "\n",
    "for i_batch in tqdm(range(DATA_BATCHES)):\n",
    "    tokens, word_idxs = generate_batch()\n",
    "    _, cache = model.run_with_cache(tokens, names_filter=lambda x: x.endswith(\"resid_post\"))\n",
    "    residuals = cache.stack_activation(\"resid_post\")\n",
    "\n",
    "    # print(residuals.shape) # num_layers, batch_size, seq_length, hidden_dim?\n",
    "\n",
    "    residuals = residuals[:, :, prefix_len:, :]\n",
    "    word_idxs = word_idxs[:, :residuals.size(dim=2)]\n",
    "\n",
    "    # print(residuals.shape)\n",
    "    # print(word_idxs.shape)\n",
    "\n",
    "    mask = word_idxs != -1\n",
    "\n",
    "    all_resids.append(residuals.cpu().numpy()[:, mask].reshape(12, -1, model.cfg.d_model))\n",
    "    all_word_idxs.append(word_idxs[mask])\n"
   ]
  },
  {
   "cell_type": "code",
   "execution_count": 10,
   "metadata": {},
   "outputs": [
    {
     "name": "stdout",
     "output_type": "stream",
     "text": [
      "(12, 31914, 768)\n",
      "(31914,)\n"
     ]
    }
   ],
   "source": [
    "x_all_layers = np.concatenate(all_resids, axis=1)\n",
    "y = np.concatenate(all_word_idxs)\n",
    "\n",
    "print(x_all_layers.shape)\n",
    "print(y.shape)"
   ]
  },
  {
   "cell_type": "markdown",
   "metadata": {},
   "source": [
    "## training probe"
   ]
  },
  {
   "cell_type": "code",
   "execution_count": 11,
   "metadata": {},
   "outputs": [
    {
     "name": "stdout",
     "output_type": "stream",
     "text": [
      "(31914, 768)\n"
     ]
    },
    {
     "name": "stderr",
     "output_type": "stream",
     "text": [
      "/home/jnb5885/miniconda3/envs/ling/lib/python3.11/site-packages/sklearn/linear_model/_sag.py:350: ConvergenceWarning: The max_iter was reached which means the coef_ did not converge\n",
      "  warnings.warn(\n"
     ]
    },
    {
     "name": "stdout",
     "output_type": "stream",
     "text": [
      "              precision    recall  f1-score   support\n",
      "\n",
      "         0.0       1.00      1.00      1.00      1237\n",
      "         1.0       0.97      0.96      0.96      1292\n",
      "         2.0       0.83      0.84      0.84      1250\n",
      "         3.0       0.69      0.67      0.68      1281\n",
      "         4.0       0.61      0.61      0.61      1276\n",
      "         5.0       0.54      0.56      0.55      1323\n",
      "         6.0       0.51      0.48      0.49      1266\n",
      "         7.0       0.48      0.48      0.48      1282\n",
      "         8.0       0.45      0.42      0.44      1228\n",
      "         9.0       0.44      0.46      0.45      1289\n",
      "        10.0       0.41      0.43      0.42      1284\n",
      "        11.0       0.41      0.41      0.41      1258\n",
      "        12.0       0.42      0.43      0.42      1308\n",
      "        13.0       0.40      0.41      0.41      1294\n",
      "        14.0       0.42      0.45      0.44      1298\n",
      "        15.0       0.43      0.41      0.42      1250\n",
      "        16.0       0.47      0.46      0.46      1279\n",
      "        17.0       0.48      0.45      0.47      1296\n",
      "        18.0       0.54      0.49      0.51      1269\n",
      "        19.0       0.68      0.75      0.71      1271\n",
      "\n",
      "    accuracy                           0.56     25531\n",
      "   macro avg       0.56      0.56      0.56     25531\n",
      "weighted avg       0.56      0.56      0.56     25531\n",
      "\n",
      "              precision    recall  f1-score   support\n",
      "\n",
      "         0.0       0.98      0.98      0.98       329\n",
      "         1.0       0.84      0.87      0.85       311\n",
      "         2.0       0.63      0.58      0.60       319\n",
      "         3.0       0.41      0.41      0.41       336\n",
      "         4.0       0.32      0.30      0.31       307\n",
      "         5.0       0.28      0.31      0.29       291\n",
      "         6.0       0.24      0.25      0.25       315\n",
      "         7.0       0.20      0.18      0.19       330\n",
      "         8.0       0.23      0.19      0.21       335\n",
      "         9.0       0.25      0.26      0.26       331\n",
      "        10.0       0.18      0.18      0.18       323\n",
      "        11.0       0.18      0.18      0.18       326\n",
      "        12.0       0.15      0.17      0.16       295\n",
      "        13.0       0.22      0.22      0.22       335\n",
      "        14.0       0.19      0.23      0.21       280\n",
      "        15.0       0.18      0.16      0.17       326\n",
      "        16.0       0.18      0.17      0.18       318\n",
      "        17.0       0.21      0.20      0.20       304\n",
      "        18.0       0.30      0.28      0.29       344\n",
      "        19.0       0.49      0.52      0.51       328\n",
      "\n",
      "    accuracy                           0.33      6383\n",
      "   macro avg       0.33      0.33      0.33      6383\n",
      "weighted avg       0.33      0.33      0.33      6383\n",
      "\n"
     ]
    }
   ],
   "source": [
    "from sklearn.linear_model import LogisticRegression\n",
    "from sklearn.metrics import classification_report\n",
    "from sklearn.model_selection import train_test_split\n",
    "\n",
    "LAYER = 3\n",
    "\n",
    "x = x_all_layers[LAYER, :, :]\n",
    "print(x.shape)\n",
    "\n",
    "X_train, X_test, y_train, y_test = train_test_split(x, y, test_size=0.2, random_state=42)\n",
    "\n",
    "# Create a Logistic Regression model\n",
    "lr_model = LogisticRegression(multi_class='ovr', solver='saga', random_state=42, max_iter=100, C=1.0)\n",
    "\n",
    "# Fit the model on the training data\n",
    "lr_model.fit(X_train, y_train)\n",
    "\n",
    "# Print a classification report\n",
    "y_pred = lr_model.predict(X_train)\n",
    "print(classification_report(y_train, y_pred))\n",
    "y_pred = lr_model.predict(X_test)\n",
    "print(classification_report(y_test, y_pred))"
   ]
  },
  {
   "cell_type": "markdown",
   "metadata": {},
   "source": [
    "## testing probe on specific examples"
   ]
  },
  {
   "cell_type": "code",
   "execution_count": 12,
   "metadata": {},
   "outputs": [
    {
     "name": "stdout",
     "output_type": "stream",
     "text": [
      "This has two sentences. What will the probes find? Who knows it could be anything\n",
      "tensor([[50256, 14618,   284,   616,  4130,    13,   770,   468,   734, 13439,\n",
      "            13,  1867,   481,   262, 33124,  1064,    30,  5338,  4206,   340,\n",
      "           714,   307,  1997]], device='cuda:0')\n"
     ]
    },
    {
     "data": {
      "text/plain": [
       "torch.Size([12, 1, 17, 768])"
      ]
     },
     "execution_count": 12,
     "metadata": {},
     "output_type": "execute_result"
    }
   ],
   "source": [
    "s_example = \"This has two sentences. What will the probes find? Who knows it could be anything\"\n",
    "t_example = model.to_tokens(PREFIX + s_example, prepend_bos=True)\n",
    "\n",
    "print(s_example)\n",
    "print(t_example)\n",
    "\n",
    "_, cache = model.run_with_cache(t_example, names_filter=lambda x: x.endswith(\"resid_post\"))\n",
    "residuals = cache.stack_activation(\"resid_post\")\n",
    "residuals = residuals[:, :, prefix_len:, :]\n",
    "residuals.shape"
   ]
  },
  {
   "cell_type": "code",
   "execution_count": 13,
   "metadata": {},
   "outputs": [
    {
     "data": {
      "text/plain": [
       "(12, 17, 768)"
      ]
     },
     "execution_count": 13,
     "metadata": {},
     "output_type": "execute_result"
    }
   ],
   "source": [
    "x_example = residuals.squeeze(1).cpu().numpy()\n",
    "x_example.shape"
   ]
  },
  {
   "cell_type": "code",
   "execution_count": 14,
   "metadata": {},
   "outputs": [
    {
     "data": {
      "text/plain": [
       "array([ 0.,  1.,  1.,  2.,  2.,  0.,  1.,  2.,  2.,  2.,  2.,  0., 14.,\n",
       "       17., 17., 17., 11.])"
      ]
     },
     "execution_count": 14,
     "metadata": {},
     "output_type": "execute_result"
    }
   ],
   "source": [
    "pred_example = lr_model.predict(x_example[LAYER, :, :])\n",
    "pred_example"
   ]
  }
 ],
 "metadata": {
  "kernelspec": {
   "display_name": "ling",
   "language": "python",
   "name": "python3"
  },
  "language_info": {
   "codemirror_mode": {
    "name": "ipython",
    "version": 3
   },
   "file_extension": ".py",
   "mimetype": "text/x-python",
   "name": "python",
   "nbconvert_exporter": "python",
   "pygments_lexer": "ipython3",
   "version": "3.11.7"
  }
 },
 "nbformat": 4,
 "nbformat_minor": 2
}
