{
 "cells": [
  {
   "cell_type": "code",
   "execution_count": 2,
   "metadata": {},
   "outputs": [
    {
     "name": "stderr",
     "output_type": "stream",
     "text": [
      "/home/jnb5885/miniconda3/envs/ling/lib/python3.11/site-packages/tqdm/auto.py:21: TqdmWarning: IProgress not found. Please update jupyter and ipywidgets. See https://ipywidgets.readthedocs.io/en/stable/user_install.html\n",
      "  from .autonotebook import tqdm as notebook_tqdm\n"
     ]
    }
   ],
   "source": [
    "import transformer_lens\n",
    "import torch"
   ]
  },
  {
   "cell_type": "code",
   "execution_count": 3,
   "metadata": {},
   "outputs": [
    {
     "name": "stdout",
     "output_type": "stream",
     "text": [
      "Device: cuda\n"
     ]
    }
   ],
   "source": [
    "device_name = \"cpu\"\n",
    "if torch.cuda.is_available():\n",
    "    device_name = \"cuda\" # CUDA for NVIDIA GPU\n",
    "\n",
    "device = torch.device(device_name)\n",
    "print(f\"Device: {device_name}\")"
   ]
  },
  {
   "cell_type": "code",
   "execution_count": 4,
   "metadata": {},
   "outputs": [
    {
     "name": "stderr",
     "output_type": "stream",
     "text": [
      "config.json: 100%|██████████| 665/665 [00:00<00:00, 4.58MB/s]\n",
      "model.safetensors: 100%|██████████| 548M/548M [00:01<00:00, 276MB/s] \n",
      "generation_config.json: 100%|██████████| 124/124 [00:00<00:00, 1.15MB/s]\n",
      "tokenizer_config.json: 100%|██████████| 26.0/26.0 [00:00<00:00, 273kB/s]\n",
      "vocab.json: 100%|██████████| 1.04M/1.04M [00:00<00:00, 14.5MB/s]\n",
      "merges.txt: 100%|██████████| 456k/456k [00:00<00:00, 3.64MB/s]\n",
      "tokenizer.json: 100%|██████████| 1.36M/1.36M [00:00<00:00, 11.5MB/s]\n"
     ]
    },
    {
     "name": "stdout",
     "output_type": "stream",
     "text": [
      "Loaded pretrained model gpt2-small into HookedTransformer\n"
     ]
    }
   ],
   "source": [
    "# Load a model (eg GPT-2 Small)\n",
    "model = transformer_lens.HookedTransformer.from_pretrained(\"gpt2-small\")\n",
    "\n",
    "# Run the model and get logits and activations\n",
    "logits, activations = model.run_with_cache(\"Hello World\")"
   ]
  },
  {
   "cell_type": "code",
   "execution_count": 5,
   "metadata": {},
   "outputs": [
    {
     "name": "stdout",
     "output_type": "stream",
     "text": [
      "blocks.0.hook_resid_pre\n",
      "blocks.0.hook_resid_mid\n",
      "blocks.0.hook_resid_post\n",
      "blocks.1.hook_resid_pre\n",
      "blocks.1.hook_resid_mid\n",
      "blocks.1.hook_resid_post\n",
      "blocks.2.hook_resid_pre\n",
      "blocks.2.hook_resid_mid\n",
      "blocks.2.hook_resid_post\n",
      "blocks.3.hook_resid_pre\n",
      "blocks.3.hook_resid_mid\n",
      "blocks.3.hook_resid_post\n",
      "blocks.4.hook_resid_pre\n",
      "blocks.4.hook_resid_mid\n",
      "blocks.4.hook_resid_post\n",
      "blocks.5.hook_resid_pre\n",
      "blocks.5.hook_resid_mid\n",
      "blocks.5.hook_resid_post\n",
      "blocks.6.hook_resid_pre\n",
      "blocks.6.hook_resid_mid\n",
      "blocks.6.hook_resid_post\n",
      "blocks.7.hook_resid_pre\n",
      "blocks.7.hook_resid_mid\n",
      "blocks.7.hook_resid_post\n",
      "blocks.8.hook_resid_pre\n",
      "blocks.8.hook_resid_mid\n",
      "blocks.8.hook_resid_post\n",
      "blocks.9.hook_resid_pre\n",
      "blocks.9.hook_resid_mid\n",
      "blocks.9.hook_resid_post\n",
      "blocks.10.hook_resid_pre\n",
      "blocks.10.hook_resid_mid\n",
      "blocks.10.hook_resid_post\n",
      "blocks.11.hook_resid_pre\n",
      "blocks.11.hook_resid_mid\n",
      "blocks.11.hook_resid_post\n"
     ]
    }
   ],
   "source": [
    "for k in activations:\n",
    "    if \"resid\" in k:\n",
    "        print(k)"
   ]
  }
 ],
 "metadata": {
  "kernelspec": {
   "display_name": "ling",
   "language": "python",
   "name": "python3"
  },
  "language_info": {
   "codemirror_mode": {
    "name": "ipython",
    "version": 3
   },
   "file_extension": ".py",
   "mimetype": "text/x-python",
   "name": "python",
   "nbconvert_exporter": "python",
   "pygments_lexer": "ipython3",
   "version": "3.11.7"
  }
 },
 "nbformat": 4,
 "nbformat_minor": 2
}
