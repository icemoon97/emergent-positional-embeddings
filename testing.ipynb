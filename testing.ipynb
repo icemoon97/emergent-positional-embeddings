{
 "cells": [
  {
   "cell_type": "code",
   "execution_count": null,
   "metadata": {},
   "outputs": [],
   "source": [
    "# export PATH=/home/jnb5885/.conda/envs/take2/bin:$PATH"
   ]
  },
  {
   "cell_type": "code",
   "execution_count": 2,
   "metadata": {},
   "outputs": [
    {
     "name": "stderr",
     "output_type": "stream",
     "text": [
      "/home/jnb5885/miniconda3/envs/ling/lib/python3.11/site-packages/tqdm/auto.py:21: TqdmWarning: IProgress not found. Please update jupyter and ipywidgets. See https://ipywidgets.readthedocs.io/en/stable/user_install.html\n",
      "  from .autonotebook import tqdm as notebook_tqdm\n"
     ]
    }
   ],
   "source": [
    "import transformer_lens\n",
    "import torch\n",
    "\n",
    "import numpy as np\n",
    "import pandas as pd\n",
    "import matplotlib.pyplot as plt\n",
    "\n",
    "from tqdm import tqdm"
   ]
  },
  {
   "cell_type": "code",
   "execution_count": 3,
   "metadata": {},
   "outputs": [
    {
     "name": "stdout",
     "output_type": "stream",
     "text": [
      "Device: cuda\n"
     ]
    }
   ],
   "source": [
    "device_name = \"cpu\"\n",
    "if torch.cuda.is_available():\n",
    "    device_name = \"cuda\" # CUDA for NVIDIA GPU\n",
    "\n",
    "device = torch.device(device_name)\n",
    "print(f\"Device: {device_name}\")"
   ]
  },
  {
   "cell_type": "code",
   "execution_count": 4,
   "metadata": {},
   "outputs": [
    {
     "name": "stdout",
     "output_type": "stream",
     "text": [
      "Loaded pretrained model gpt2-small into HookedTransformer\n"
     ]
    }
   ],
   "source": [
    "# Load a model (eg GPT-2 Small)\n",
    "model = transformer_lens.HookedTransformer.from_pretrained(\"gpt2-small\")\n",
    "\n",
    "# Run the model and get logits and activations\n",
    "logits, activations = model.run_with_cache(\"Hello World\")"
   ]
  },
  {
   "cell_type": "markdown",
   "metadata": {},
   "source": [
    "## tokens"
   ]
  },
  {
   "cell_type": "code",
   "execution_count": 4,
   "metadata": {},
   "outputs": [
    {
     "data": {
      "text/plain": [
       "array(['valley', 'syracuse', 'wave', ..., 'queens', 'parameter', 'ohio'],\n",
       "      dtype='<U22')"
      ]
     },
     "execution_count": 4,
     "metadata": {},
     "output_type": "execute_result"
    }
   ],
   "source": [
    "N_WORDS = 10000\n",
    "with open('common_words.txt', 'r') as file:\n",
    "    words = np.random.choice([l.rstrip(\"\\n\") for l in file.readlines()], N_WORDS)\n",
    "\n",
    "words"
   ]
  },
  {
   "cell_type": "code",
   "execution_count": 5,
   "metadata": {},
   "outputs": [
    {
     "data": {
      "text/html": [
       "<div>\n",
       "<style scoped>\n",
       "    .dataframe tbody tr th:only-of-type {\n",
       "        vertical-align: middle;\n",
       "    }\n",
       "\n",
       "    .dataframe tbody tr th {\n",
       "        vertical-align: top;\n",
       "    }\n",
       "\n",
       "    .dataframe thead th {\n",
       "        text-align: right;\n",
       "    }\n",
       "</style>\n",
       "<table border=\"1\" class=\"dataframe\">\n",
       "  <thead>\n",
       "    <tr style=\"text-align: right;\">\n",
       "      <th></th>\n",
       "      <th>word</th>\n",
       "      <th>n_tokens</th>\n",
       "      <th>n_tokens_space</th>\n",
       "    </tr>\n",
       "  </thead>\n",
       "  <tbody>\n",
       "    <tr>\n",
       "      <th>0</th>\n",
       "      <td>valley</td>\n",
       "      <td>2</td>\n",
       "      <td>1</td>\n",
       "    </tr>\n",
       "    <tr>\n",
       "      <th>1</th>\n",
       "      <td>syracuse</td>\n",
       "      <td>2</td>\n",
       "      <td>2</td>\n",
       "    </tr>\n",
       "    <tr>\n",
       "      <th>2</th>\n",
       "      <td>wave</td>\n",
       "      <td>1</td>\n",
       "      <td>1</td>\n",
       "    </tr>\n",
       "    <tr>\n",
       "      <th>3</th>\n",
       "      <td>scholarship</td>\n",
       "      <td>3</td>\n",
       "      <td>1</td>\n",
       "    </tr>\n",
       "    <tr>\n",
       "      <th>4</th>\n",
       "      <td>rebates</td>\n",
       "      <td>2</td>\n",
       "      <td>2</td>\n",
       "    </tr>\n",
       "    <tr>\n",
       "      <th>...</th>\n",
       "      <td>...</td>\n",
       "      <td>...</td>\n",
       "      <td>...</td>\n",
       "    </tr>\n",
       "    <tr>\n",
       "      <th>9995</th>\n",
       "      <td>rail</td>\n",
       "      <td>1</td>\n",
       "      <td>1</td>\n",
       "    </tr>\n",
       "    <tr>\n",
       "      <th>9996</th>\n",
       "      <td>listed</td>\n",
       "      <td>1</td>\n",
       "      <td>1</td>\n",
       "    </tr>\n",
       "    <tr>\n",
       "      <th>9997</th>\n",
       "      <td>queens</td>\n",
       "      <td>2</td>\n",
       "      <td>1</td>\n",
       "    </tr>\n",
       "    <tr>\n",
       "      <th>9998</th>\n",
       "      <td>parameter</td>\n",
       "      <td>2</td>\n",
       "      <td>1</td>\n",
       "    </tr>\n",
       "    <tr>\n",
       "      <th>9999</th>\n",
       "      <td>ohio</td>\n",
       "      <td>2</td>\n",
       "      <td>2</td>\n",
       "    </tr>\n",
       "  </tbody>\n",
       "</table>\n",
       "<p>10000 rows × 3 columns</p>\n",
       "</div>"
      ],
      "text/plain": [
       "             word  n_tokens  n_tokens_space\n",
       "0          valley         2               1\n",
       "1        syracuse         2               2\n",
       "2            wave         1               1\n",
       "3     scholarship         3               1\n",
       "4         rebates         2               2\n",
       "...           ...       ...             ...\n",
       "9995         rail         1               1\n",
       "9996       listed         1               1\n",
       "9997       queens         2               1\n",
       "9998    parameter         2               1\n",
       "9999         ohio         2               2\n",
       "\n",
       "[10000 rows x 3 columns]"
      ]
     },
     "execution_count": 5,
     "metadata": {},
     "output_type": "execute_result"
    }
   ],
   "source": [
    "word_len_dict = {}\n",
    "rows = []\n",
    "for w in words:\n",
    "    t = len(model.to_tokens(w, prepend_bos=False).squeeze(0))\n",
    "    t_space = len(model.to_tokens(f\" {w}\", prepend_bos=False).squeeze(0))\n",
    "    word_len_dict[w] = t_space\n",
    "    row = {\n",
    "        \"word\": w,\n",
    "        \"n_tokens\": t,\n",
    "        \"n_tokens_space\": t_space\n",
    "    }\n",
    "    rows.append(row)\n",
    "\n",
    "word_df = pd.DataFrame(rows)\n",
    "word_df"
   ]
  },
  {
   "cell_type": "code",
   "execution_count": 6,
   "metadata": {},
   "outputs": [
    {
     "data": {
      "image/png": "[encoded data removed]",
      "text/plain": [
       "<Figure size 1000x600 with 1 Axes>"
      ]
     },
     "metadata": {},
     "output_type": "display_data"
    }
   ],
   "source": [
    "plt.figure(figsize=(10, 6))\n",
    "plt.hist(word_df['n_tokens_space'], bins=len(word_df['n_tokens_space'].unique())-1, edgecolor='k')\n",
    "plt.xlabel('number of tokens per word')\n",
    "plt.ylabel('freq')\n",
    "plt.show()"
   ]
  },
  {
   "cell_type": "markdown",
   "metadata": {},
   "source": [
    "## building dataset"
   ]
  },
  {
   "cell_type": "code",
   "execution_count": 17,
   "metadata": {},
   "outputs": [],
   "source": [
    "word_len = np.vectorize(lambda x: word_len_dict[x])"
   ]
  },
  {
   "cell_type": "code",
   "execution_count": 11,
   "metadata": {},
   "outputs": [],
   "source": [
    "PREFIX = \"Hello and welcome to my blog, where I love word.\\nWhat \"\n",
    "BATCH_SIZE = 256\n",
    "N_SAMPLE = 10\n",
    "\n",
    "prefix_len = len(model.to_tokens(PREFIX, prepend_bos=True).squeeze(0)) - 1\n",
    "\n",
    "def generate_batch():\n",
    "    batch_words = []\n",
    "    for i in range(BATCH_SIZE):\n",
    "        sampled = np.random.choice(words, N_SAMPLE)\n",
    "\n",
    "        batch_words.append(sampled)\n",
    "\n",
    "    tokens = model.to_tokens([PREFIX + \" \".join(s) for s in batch_words], prepend_bos=True)\n",
    "    mapped_len = word_len(batch_words)\n",
    "\n",
    "    word_idxs = np.ones((BATCH_SIZE, N_SAMPLE * 3)) * -1\n",
    "    for i, r in enumerate(mapped_len):\n",
    "        row = np.repeat(np.arange(N_SAMPLE), r)\n",
    "        word_idxs[i, :len(row)] = row\n",
    "\n",
    "    return tokens, word_idxs"
   ]
  },
  {
   "cell_type": "code",
   "execution_count": 19,
   "metadata": {},
   "outputs": [
    {
     "name": "stderr",
     "output_type": "stream",
     "text": [
      "100%|██████████| 20/20 [00:05<00:00,  3.99it/s]\n"
     ]
    }
   ],
   "source": [
    "DATA_BATCHES = 20\n",
    "\n",
    "torch.set_grad_enabled(False)\n",
    "\n",
    "all_resids = []\n",
    "all_word_idxs = []\n",
    "\n",
    "for i_batch in tqdm(range(DATA_BATCHES)):\n",
    "    tokens, word_idxs = generate_batch()\n",
    "    _, cache = model.run_with_cache(tokens, names_filter=lambda x: x.endswith(\"resid_post\"))\n",
    "    residuals = cache.stack_activation(\"resid_post\")\n",
    "\n",
    "    # print(residuals.shape) # num_layers, batch_size, seq_length, hidden_dim?\n",
    "\n",
    "    residuals = residuals[:, :, prefix_len:, :]\n",
    "    word_idxs = word_idxs[:, :residuals.size(dim=2)]\n",
    "\n",
    "    # print(residuals.shape)\n",
    "    # print(word_idxs.shape)\n",
    "\n",
    "    mask = word_idxs != -1\n",
    "\n",
    "    all_resids.append(residuals.cpu().numpy()[:, mask].reshape(12, -1, model.cfg.d_model))\n",
    "    all_word_idxs.append(word_idxs[mask])\n"
   ]
  },
  {
   "cell_type": "code",
   "execution_count": 20,
   "metadata": {},
   "outputs": [
    {
     "name": "stdout",
     "output_type": "stream",
     "text": [
      "(12, 63820, 768)\n",
      "(63820,)\n"
     ]
    }
   ],
   "source": [
    "x_all_layers = np.concatenate(all_resids, axis=1)\n",
    "y = np.concatenate(all_word_idxs)\n",
    "\n",
    "print(x_all_layers.shape)\n",
    "print(y.shape)"
   ]
  },
  {
   "cell_type": "code",
   "execution_count": 21,
   "metadata": {},
   "outputs": [],
   "source": [
    "np.save(\"63k_X_alllayers.npy\", x_all_layers)"
   ]
  },
  {
   "cell_type": "code",
   "execution_count": 22,
   "metadata": {},
   "outputs": [],
   "source": [
    "np.save(\"63k_Y.npy\", y)"
   ]
  },
  {
   "cell_type": "code",
   "execution_count": 5,
   "metadata": {},
   "outputs": [],
   "source": [
    "x_all_layers = np.load(\"63k_X_alllayers.npy\")\n",
    "y = np.load(\"63k_Y.npy\")"
   ]
  },
  {
   "cell_type": "markdown",
   "metadata": {},
   "source": [
    "## training probe"
   ]
  },
  {
   "cell_type": "code",
   "execution_count": 6,
   "metadata": {},
   "outputs": [],
   "source": [
    "LAYER = 3"
   ]
  },
  {
   "cell_type": "code",
   "execution_count": 24,
   "metadata": {},
   "outputs": [
    {
     "name": "stdout",
     "output_type": "stream",
     "text": [
      "(2000, 768)\n",
      "(2000,)\n"
     ]
    }
   ],
   "source": [
    "# picking some subset of data to train on\n",
    "\n",
    "train_idxs = np.random.choice(len(y), 2000)\n",
    "sub_X = x_all_layers[LAYER, train_idxs, :]\n",
    "sub_Y = y[train_idxs]\n",
    "\n",
    "print(sub_X.shape)\n",
    "print(sub_Y.shape)"
   ]
  },
  {
   "cell_type": "code",
   "execution_count": 7,
   "metadata": {},
   "outputs": [],
   "source": [
    "# train on all data\n",
    "sub_X = x_all_layers[LAYER, :, :]\n",
    "sub_Y = y"
   ]
  },
  {
   "cell_type": "code",
   "execution_count": 8,
   "metadata": {},
   "outputs": [
    {
     "name": "stderr",
     "output_type": "stream",
     "text": [
      "/home/jnb5885/miniconda3/envs/ling/lib/python3.11/site-packages/sklearn/linear_model/_sag.py:350: ConvergenceWarning: The max_iter was reached which means the coef_ did not converge\n",
      "  warnings.warn(\n"
     ]
    },
    {
     "name": "stdout",
     "output_type": "stream",
     "text": [
      "              precision    recall  f1-score   support\n",
      "\n",
      "         0.0       1.00      1.00      1.00      5084\n",
      "         1.0       0.93      0.92      0.92      5079\n",
      "         2.0       0.76      0.77      0.76      5128\n",
      "         3.0       0.61      0.61      0.61      5139\n",
      "         4.0       0.53      0.52      0.52      5060\n",
      "         5.0       0.48      0.48      0.48      5085\n",
      "         6.0       0.47      0.50      0.48      5183\n",
      "         7.0       0.51      0.47      0.49      5109\n",
      "         8.0       0.57      0.49      0.53      5104\n",
      "         9.0       0.75      0.87      0.81      5085\n",
      "\n",
      "    accuracy                           0.66     51056\n",
      "   macro avg       0.66      0.66      0.66     51056\n",
      "weighted avg       0.66      0.66      0.66     51056\n",
      "\n",
      "              precision    recall  f1-score   support\n",
      "\n",
      "         0.0       0.99      0.99      0.99      1259\n",
      "         1.0       0.90      0.88      0.89      1271\n",
      "         2.0       0.69      0.69      0.69      1317\n",
      "         3.0       0.51      0.52      0.52      1284\n",
      "         4.0       0.43      0.42      0.42      1295\n",
      "         5.0       0.37      0.38      0.37      1242\n",
      "         6.0       0.36      0.38      0.37      1261\n",
      "         7.0       0.39      0.37      0.38      1269\n",
      "         8.0       0.47      0.39      0.43      1310\n",
      "         9.0       0.70      0.80      0.75      1256\n",
      "\n",
      "    accuracy                           0.58     12764\n",
      "   macro avg       0.58      0.58      0.58     12764\n",
      "weighted avg       0.58      0.58      0.58     12764\n",
      "\n"
     ]
    }
   ],
   "source": [
    "from sklearn.linear_model import LogisticRegression\n",
    "from sklearn.metrics import classification_report\n",
    "from sklearn.model_selection import train_test_split\n",
    "\n",
    "X_train, X_test, y_train, y_test = train_test_split(sub_X, sub_Y, test_size=0.2, random_state=42)\n",
    "\n",
    "# Create a Logistic Regression model\n",
    "lr_model = LogisticRegression(multi_class='ovr', solver='saga', random_state=42, max_iter=100, C=1.0)\n",
    "\n",
    "# Fit the model on the training data\n",
    "lr_model.fit(X_train, y_train)\n",
    "\n",
    "# Print a classification report\n",
    "y_pred = lr_model.predict(X_train)\n",
    "print(classification_report(y_train, y_pred))\n",
    "y_pred = lr_model.predict(X_test)\n",
    "print(classification_report(y_test, y_pred))"
   ]
  },
  {
   "cell_type": "markdown",
   "metadata": {},
   "source": [
    "### saving probe"
   ]
  },
  {
   "cell_type": "code",
   "execution_count": 9,
   "metadata": {},
   "outputs": [
    {
     "data": {
      "text/plain": [
       "['probe_layer3.pkl']"
      ]
     },
     "execution_count": 9,
     "metadata": {},
     "output_type": "execute_result"
    }
   ],
   "source": [
    "import joblib\n",
    "\n",
    "# Save the model to a file\n",
    "joblib.dump(lr_model, f'probe_layer{LAYER}.pkl')"
   ]
  },
  {
   "cell_type": "markdown",
   "metadata": {},
   "source": [
    "## testing probe on specific examples"
   ]
  },
  {
   "cell_type": "code",
   "execution_count": 12,
   "metadata": {},
   "outputs": [
    {
     "name": "stdout",
     "output_type": "stream",
     "text": [
      "This has two sentences. What will the probes find? Who knows it could be anything\n",
      "tensor([[50256, 15496,   290,  7062,   284,   616,  4130,    11,   810,   314,\n",
      "          1842,  1573,    13,   198,  2061,   770,   468,   734, 13439,    13,\n",
      "          1867,   481,   262, 33124,  1064,    30,  5338,  4206,   340,   714,\n",
      "           307,  1997]], device='cuda:0')\n"
     ]
    },
    {
     "data": {
      "text/plain": [
       "torch.Size([12, 1, 17, 768])"
      ]
     },
     "execution_count": 12,
     "metadata": {},
     "output_type": "execute_result"
    }
   ],
   "source": [
    "s_example = \"This has two sentences. What will the probes find? Who knows it could be anything\"\n",
    "t_example = model.to_tokens(PREFIX + s_example, prepend_bos=True)\n",
    "\n",
    "print(s_example)\n",
    "print(t_example)\n",
    "\n",
    "_, cache = model.run_with_cache(t_example, names_filter=lambda x: x.endswith(\"resid_post\"))\n",
    "residuals = cache.stack_activation(\"resid_post\")\n",
    "residuals = residuals[:, :, prefix_len:, :]\n",
    "residuals.shape"
   ]
  },
  {
   "cell_type": "code",
   "execution_count": 13,
   "metadata": {},
   "outputs": [
    {
     "data": {
      "text/plain": [
       "(12, 17, 768)"
      ]
     },
     "execution_count": 13,
     "metadata": {},
     "output_type": "execute_result"
    }
   ],
   "source": [
    "x_example = residuals.squeeze(1).cpu().numpy()\n",
    "x_example.shape"
   ]
  },
  {
   "cell_type": "code",
   "execution_count": 14,
   "metadata": {},
   "outputs": [
    {
     "data": {
      "text/plain": [
       "array([0., 0., 2., 2., 4., 8., 0., 1., 1., 2., 8., 8., 9., 9., 9., 9., 9.])"
      ]
     },
     "execution_count": 14,
     "metadata": {},
     "output_type": "execute_result"
    }
   ],
   "source": [
    "pred_example = lr_model.predict(x_example[LAYER, :, :])\n",
    "pred_example"
   ]
  }
 ],
 "metadata": {
  "kernelspec": {
   "display_name": "Python 3 (ipykernel)",
   "language": "python",
   "name": "python3"
  },
  "language_info": {
   "codemirror_mode": {
    "name": "ipython",
    "version": 3
   },
   "file_extension": ".py",
   "mimetype": "text/x-python",
   "name": "python",
   "nbconvert_exporter": "python",
   "pygments_lexer": "ipython3",
   "version": "3.10.13"
  }
 },
 "nbformat": 4,
 "nbformat_minor": 2
}
