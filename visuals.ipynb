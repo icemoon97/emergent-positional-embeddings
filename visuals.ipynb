{
 "cells": [
  {
   "cell_type": "code",
   "execution_count": 7,
   "metadata": {},
   "outputs": [],
   "source": [
    "import os\n",
    "import json\n",
    "\n",
    "import matplotlib.pyplot as plt\n",
    "import numpy as np\n",
    "import torch\n",
    "from tqdm import tqdm\n",
    "\n",
    "import transformer_lens\n",
    "\n",
    "from probe_model import LinearProbe"
   ]
  },
  {
   "cell_type": "code",
   "execution_count": 8,
   "metadata": {},
   "outputs": [
    {
     "name": "stdout",
     "output_type": "stream",
     "text": [
      "Device: cuda\n"
     ]
    }
   ],
   "source": [
    "device_name = \"cpu\"\n",
    "if torch.cuda.is_available():\n",
    "    device_name = \"cuda\" # CUDA for NVIDIA GPU\n",
    "\n",
    "device = torch.device(device_name)\n",
    "print(f\"Device: {device_name}\")"
   ]
  },
  {
   "cell_type": "code",
   "execution_count": 9,
   "metadata": {},
   "outputs": [
    {
     "name": "stdout",
     "output_type": "stream",
     "text": [
      "Loaded pretrained model gpt2-small into HookedTransformer\n"
     ]
    }
   ],
   "source": [
    "model_name = \"gpt2-small\"\n",
    "model = transformer_lens.HookedTransformer.from_pretrained(model_name)"
   ]
  },
  {
   "cell_type": "code",
   "execution_count": 10,
   "metadata": {},
   "outputs": [],
   "source": [
    "def load_probe(ckpt_path):\n",
    "    model = LinearProbe(device=device, num_input_features=768, num_classes=10)\n",
    "    model.load_state_dict(torch.load(f\"{ckpt_path}/checkpoint.ckpt\", map_location=device))\n",
    "    model.eval()\n",
    "    return model"
   ]
  },
  {
   "cell_type": "code",
   "execution_count": 11,
   "metadata": {},
   "outputs": [],
   "source": [
    "LAYER = 3\n",
    "folder = f\"ckpts/{model_name}/randwords_159k/layer{LAYER}\"\n",
    "probe = load_probe(folder)"
   ]
  },
  {
   "cell_type": "code",
   "execution_count": 12,
   "metadata": {},
   "outputs": [
    {
     "name": "stdout",
     "output_type": "stream",
     "text": [
      "This has two sentences. What will the probes find? Who knows it could be anything\n",
      "tensor([[50256, 15496,   290,  7062,   284,   616,  4130,    11,   810,   314,\n",
      "          1842,   284,  1351,  2456,    13,   198,  2061,   770,   468,   734,\n",
      "         13439,    13,  1867,   481,   262, 33124,  1064,    30,  5338,  4206,\n",
      "           340,   714,   307,  1997]], device='cuda:0')\n"
     ]
    },
    {
     "data": {
      "text/plain": [
       "torch.Size([12, 1, 17, 768])"
      ]
     },
     "execution_count": 12,
     "metadata": {},
     "output_type": "execute_result"
    }
   ],
   "source": [
    "PREFIX = \"Hello and welcome to my blog, where I love to list words.\\nWhat \"\n",
    "prefix_len = len(model.to_tokens(PREFIX, prepend_bos=True).squeeze(0)) - 1\n",
    "\n",
    "s_example = \"This has two sentences. What will the probes find? Who knows it could be anything\"\n",
    "t_example = model.to_tokens(PREFIX + s_example, prepend_bos=True)\n",
    "\n",
    "print(s_example)\n",
    "print(t_example)\n",
    "\n",
    "_, cache = model.run_with_cache(t_example, names_filter=lambda x: x.endswith(\"resid_post\"))\n",
    "residuals = cache.stack_activation(\"resid_post\")\n",
    "residuals = residuals[:, :, prefix_len:, :]\n",
    "residuals.shape"
   ]
  },
  {
   "cell_type": "code",
   "execution_count": 13,
   "metadata": {},
   "outputs": [],
   "source": [
    "x_example = residuals.squeeze(1)"
   ]
  },
  {
   "cell_type": "code",
   "execution_count": 14,
   "metadata": {},
   "outputs": [],
   "source": [
    "logits = probe(x_example[LAYER, :, :])"
   ]
  },
  {
   "cell_type": "code",
   "execution_count": 23,
   "metadata": {},
   "outputs": [
    {
     "data": {
      "text/plain": [
       "tensor([ 49.3683,  23.2481,  21.9674,   2.0605,   6.4803,  12.8067,  32.3196,\n",
       "         14.5472,   9.8778, -14.7481,  -1.9639,   9.4774,  11.7486,  -6.1327,\n",
       "        -30.8526, -29.3661, -26.2956], device='cuda:0',\n",
       "       grad_fn=<SelectBackward0>)"
      ]
     },
     "execution_count": 23,
     "metadata": {},
     "output_type": "execute_result"
    }
   ],
   "source": [
    "single_dir = logits[:, 0]\n",
    "single_dir"
   ]
  },
  {
   "cell_type": "code",
   "execution_count": 24,
   "metadata": {},
   "outputs": [
    {
     "data": {
      "text/plain": [
       "[' This',\n",
       " ' has',\n",
       " ' two',\n",
       " ' sentences',\n",
       " '.',\n",
       " ' What',\n",
       " ' will',\n",
       " ' the',\n",
       " ' probes',\n",
       " ' find',\n",
       " '?',\n",
       " ' Who',\n",
       " ' knows',\n",
       " ' it',\n",
       " ' could',\n",
       " ' be',\n",
       " ' anything']"
      ]
     },
     "execution_count": 24,
     "metadata": {},
     "output_type": "execute_result"
    }
   ],
   "source": [
    "token_idxs = t_example[0][prefix_len:]\n",
    "token_strs = [model.to_single_str_token(tid.item()) for tid in token_idxs]\n",
    "token_strs"
   ]
  },
  {
   "cell_type": "code",
   "execution_count": 25,
   "metadata": {},
   "outputs": [],
   "source": [
    "val_range = (torch.min(single_dir), torch.max(single_dir))\n",
    "vals = (single_dir - val_range[0]) / (val_range[1] - val_range[0])\n",
    "vals = vals.detach().cpu().numpy()"
   ]
  },
  {
   "cell_type": "code",
   "execution_count": 26,
   "metadata": {},
   "outputs": [
    {
     "data": {
      "image/png": "[encoded data removed]",
      "text/plain": [
       "<Figure size 300x100 with 1 Axes>"
      ]
     },
     "metadata": {},
     "output_type": "display_data"
    }
   ],
   "source": [
    "# Create a color map\n",
    "cmap = plt.cm.Blues\n",
    "\n",
    "# Setup the figure and axis\n",
    "ax: plt.Axes\n",
    "fig, ax = plt.subplots(figsize=(3, 1))\n",
    "ax.axis('off')\n",
    "\n",
    "# Initial coordinates\n",
    "x_offset = 0.0\n",
    "y_offset = 0.5  # Centered on y-axis\n",
    "\n",
    "# Plot each token\n",
    "for token, value in zip(token_strs, vals):\n",
    "    # Add color block behind text\n",
    "    bbox_props = dict(boxstyle=\"round,pad=0.1\", facecolor=cmap(value), edgecolor='none', alpha=0.5)\n",
    "    ax.text(x_offset, y_offset, token, ha=\"left\", va=\"center\", bbox=bbox_props, fontsize=24)\n",
    "    \n",
    "    # Update x_offset for the next token\n",
    "    text_width = (len(token) + 2) * 0.1  # Approx width of each character in fontsize 14\n",
    "    x_offset += text_width\n",
    "\n",
    "plt.show()"
   ]
  }
 ],
 "metadata": {
  "kernelspec": {
   "display_name": "ling",
   "language": "python",
   "name": "python3"
  },
  "language_info": {
   "codemirror_mode": {
    "name": "ipython",
    "version": 3
   },
   "file_extension": ".py",
   "mimetype": "text/x-python",
   "name": "python",
   "nbconvert_exporter": "python",
   "pygments_lexer": "ipython3",
   "version": "3.11.7"
  }
 },
 "nbformat": 4,
 "nbformat_minor": 2
}
