{
 "cells": [
  {
   "cell_type": "code",
   "execution_count": 1,
   "id": "ad888284",
   "metadata": {},
   "outputs": [],
   "source": [
    "import os\n",
    "import json\n",
    "\n",
    "import matplotlib.pyplot as plt\n",
    "import numpy as np\n",
    "import torch\n",
    "from torch.utils.data import Dataset\n",
    "from tqdm import tqdm\n",
    "\n",
    "import transformer_lens\n",
    "\n",
    "from probe_model import LinearProbe, Trainer, TrainerConfig"
   ]
  },
  {
   "cell_type": "code",
   "execution_count": 2,
   "id": "14cd8c0f",
   "metadata": {},
   "outputs": [],
   "source": [
    "# helpful to reload probe_model after making changes to probe_model.py\n",
    "import importlib\n",
    "import probe_model\n",
    "importlib.reload(probe_model)\n",
    "from probe_model import LinearProbe, Trainer, TrainerConfig"
   ]
  },
  {
   "cell_type": "markdown",
   "id": "a3fe9b37",
   "metadata": {},
   "source": [
    "## Setup"
   ]
  },
  {
   "cell_type": "code",
   "execution_count": 2,
   "id": "b39796f9",
   "metadata": {},
   "outputs": [
    {
     "name": "stdout",
     "output_type": "stream",
     "text": [
      "Device: cuda\n"
     ]
    }
   ],
   "source": [
    "device_name = \"cpu\"\n",
    "if torch.cuda.is_available():\n",
    "    device_name = \"cuda\" # CUDA for NVIDIA GPU\n",
    "\n",
    "device = torch.device(device_name)\n",
    "print(f\"Device: {device_name}\")"
   ]
  },
  {
   "cell_type": "code",
   "execution_count": 3,
   "id": "062e5fd1",
   "metadata": {},
   "outputs": [
    {
     "name": "stdout",
     "output_type": "stream",
     "text": [
      "Loaded pretrained model gpt2-small into HookedTransformer\n"
     ]
    }
   ],
   "source": [
    "model_name = \"gpt2-small\"\n",
    "model = transformer_lens.HookedTransformer.from_pretrained(model_name)"
   ]
  },
  {
   "cell_type": "markdown",
   "id": "fcdf677c",
   "metadata": {},
   "source": [
    "## Generate dataset"
   ]
  },
  {
   "cell_type": "markdown",
   "id": "22a86780",
   "metadata": {},
   "source": [
    "### Load text"
   ]
  },
  {
   "cell_type": "code",
   "execution_count": 4,
   "id": "e20c3cba",
   "metadata": {},
   "outputs": [],
   "source": [
    "N_WORDS = 10000\n",
    "with open('datasets/common_words.txt', 'r') as file:\n",
    "    words = np.random.choice([l.rstrip(\"\\n\") for l in file.readlines()], N_WORDS)\n",
    "    \n",
    "word_len_dict = {w: len(model.to_tokens(f\" {w}\", prepend_bos=False).squeeze(0)) for w in words}\n",
    "word_len = np.vectorize(lambda x: word_len_dict[x])"
   ]
  },
  {
   "cell_type": "code",
   "execution_count": 5,
   "id": "91d756c9",
   "metadata": {},
   "outputs": [],
   "source": [
    "len_to_words = {1: [], 2: [], 3: []}\n",
    "for w, l in word_len_dict.items():\n",
    "    if l in len_to_words:\n",
    "        len_to_words[l].append(w)\n",
    "len_to_words = {k: np.array(v) for k, v in len_to_words.items()}"
   ]
  },
  {
   "cell_type": "markdown",
   "id": "dbe4fdbb",
   "metadata": {},
   "source": [
    "### generating"
   ]
  },
  {
   "cell_type": "code",
   "execution_count": 6,
   "id": "2a980b30",
   "metadata": {},
   "outputs": [],
   "source": [
    "PREFIX = \"Hello and welcome to my blog, where I love to list words.\\nWhat \"\n",
    "BATCH_SIZE = 256\n",
    "N_SAMPLE = 10\n",
    "\n",
    "prefix_len = len(model.to_tokens(PREFIX, prepend_bos=True).squeeze(0)) - 1\n",
    "\n",
    "def generate_batch():\n",
    "    batch_words = []\n",
    "    for i in range(BATCH_SIZE):\n",
    "        # sampled = np.random.choice(words, N_SAMPLE)\n",
    "\n",
    "        # specifically using same procedure as Neel Nanda's rand words\n",
    "        nums = np.random.randint(1, 4, N_SAMPLE)\n",
    "        sampled = [np.random.choice(len_to_words[l]) for l in nums]\n",
    "\n",
    "        batch_words.append(sampled)\n",
    "\n",
    "    tokens = model.to_tokens([PREFIX + \" \".join(s) for s in batch_words], prepend_bos=True)\n",
    "    mapped_len = word_len(batch_words)\n",
    "\n",
    "    word_idxs = np.ones((BATCH_SIZE, N_SAMPLE * 3)) * -1\n",
    "    for i, r in enumerate(mapped_len):\n",
    "        row = np.repeat(np.arange(N_SAMPLE), r)\n",
    "        word_idxs[i, :len(row)] = row\n",
    "\n",
    "    return tokens, word_idxs"
   ]
  },
  {
   "cell_type": "code",
   "execution_count": 7,
   "id": "82b2c134",
   "metadata": {},
   "outputs": [
    {
     "data": {
      "text/plain": [
       "'Hello and welcome to my blog, where I love to list words.\\nWhat walker ooo tons ass thailand skilled represents centers lets privilege'"
      ]
     },
     "execution_count": 7,
     "metadata": {},
     "output_type": "execute_result"
    }
   ],
   "source": [
    "# print example\n",
    "PREFIX + \" \".join(np.random.choice(words, N_SAMPLE))"
   ]
  },
  {
   "cell_type": "code",
   "execution_count": 9,
   "id": "78a08d3d",
   "metadata": {},
   "outputs": [
    {
     "name": "stderr",
     "output_type": "stream",
     "text": [
      "100%|██████████| 100/100 [01:05<00:00,  1.53it/s]\n"
     ]
    }
   ],
   "source": [
    "DATA_BATCHES = 100\n",
    "\n",
    "torch.set_grad_enabled(False)\n",
    "\n",
    "all_resids = []\n",
    "all_word_idxs = []\n",
    "\n",
    "for i_batch in tqdm(range(DATA_BATCHES)):\n",
    "    tokens, word_idxs = generate_batch()\n",
    "    _, cache = model.run_with_cache(tokens, names_filter=lambda x: x.endswith(\"resid_post\"))\n",
    "    residuals = cache.stack_activation(\"resid_post\")\n",
    "\n",
    "    # residuals.shape = (layer, batch, seq_len, model_residual_dimension)\n",
    "    residuals = residuals[:, :, prefix_len:, :]\n",
    "    word_idxs = word_idxs[:, :residuals.size(dim=2)]\n",
    "\n",
    "    mask = word_idxs != -1\n",
    "\n",
    "    all_resids.append(residuals.cpu().numpy()[:, mask].reshape(12, -1, model.cfg.d_model))\n",
    "    all_word_idxs.append(word_idxs[mask])\n"
   ]
  },
  {
   "cell_type": "code",
   "execution_count": 10,
   "id": "fe6df234",
   "metadata": {},
   "outputs": [
    {
     "name": "stdout",
     "output_type": "stream",
     "text": [
      "(12, 513113, 768)\n",
      "(513113,)\n"
     ]
    }
   ],
   "source": [
    "x_all_layers = np.concatenate(all_resids, axis=1)\n",
    "y = np.concatenate(all_word_idxs)\n",
    "\n",
    "print(x_all_layers.shape)\n",
    "print(y.shape)"
   ]
  },
  {
   "cell_type": "markdown",
   "id": "94bf3ee3",
   "metadata": {},
   "source": [
    "## Training Probes"
   ]
  },
  {
   "cell_type": "code",
   "execution_count": 13,
   "id": "d177765b",
   "metadata": {},
   "outputs": [],
   "source": [
    "class ProbingDataset(Dataset):\n",
    "    def __init__(self, act, y):\n",
    "        assert len(act) == len(y)\n",
    "        print(f\"dataset: {len(act)} pairs loaded...\")\n",
    "        self.act = act\n",
    "        self.y = y\n",
    "        print(\"y:\", np.unique(y, return_counts=True))\n",
    "        \n",
    "    def __len__(self, ):\n",
    "        return len(self.y)\n",
    "    \n",
    "    def __getitem__(self, idx):\n",
    "        return torch.tensor(self.act[idx]), torch.tensor(self.y[idx]).long()"
   ]
  },
  {
   "cell_type": "code",
   "execution_count": 14,
   "id": "c5784815",
   "metadata": {
    "scrolled": true
   },
   "outputs": [
    {
     "name": "stdout",
     "output_type": "stream",
     "text": [
      "dataset: 513113 pairs loaded...\n",
      "y: (array([0., 1., 2., 3., 4., 5., 6., 7., 8., 9.]), array([51403, 51092, 51268, 51374, 51365, 51262, 51419, 51239, 51267,\n",
      "       51424]))\n",
      "split into [test/train], [102623/410490]\n"
     ]
    }
   ],
   "source": [
    "LAYER = 3\n",
    "x = x_all_layers[LAYER, :, :]\n",
    "\n",
    "probing_dataset = ProbingDataset(x, y)\n",
    "train_size = int(0.8 * len(probing_dataset))\n",
    "test_size = len(probing_dataset) - train_size\n",
    "probe_train_dataset, probe_test_dataset = torch.utils.data.random_split(probing_dataset, [train_size, test_size])\n",
    "print(f\"split into [test/train], [{test_size}/{train_size}]\")"
   ]
  },
  {
   "cell_type": "code",
   "execution_count": 18,
   "id": "0b7aa85c",
   "metadata": {},
   "outputs": [],
   "source": [
    "probe = LinearProbe(device, 768, 10)\n",
    "\n",
    "folder = f\"ckpts/{model_name}/randwords_nanda_513k/layer{LAYER}\"\n",
    "config = TrainerConfig(num_epochs=20, ckpt_path=folder)\n",
    "trainer = Trainer(device, probe, probe_train_dataset, probe_test_dataset, config)"
   ]
  },
  {
   "cell_type": "code",
   "execution_count": 19,
   "id": "8c464d35",
   "metadata": {},
   "outputs": [
    {
     "name": "stderr",
     "output_type": "stream",
     "text": [
      "Epoch 20; Train Loss: 0.67579; Train Acc: 70.079%; Test Acc: 70.107%: 100%|██████████| 20/20 [02:42<00:00,  8.10s/it]\n"
     ]
    }
   ],
   "source": [
    "trainer.train()"
   ]
  },
  {
   "cell_type": "code",
   "execution_count": 20,
   "id": "77299f53",
   "metadata": {},
   "outputs": [
    {
     "name": "stdout",
     "output_type": "stream",
     "text": [
      "              precision    recall  f1-score   support\n",
      "\n",
      "           0     0.9844    0.9990    0.9916     10332\n",
      "           1     0.9361    0.9642    0.9500     10120\n",
      "           2     0.8747    0.8513    0.8629     10221\n",
      "           3     0.8005    0.6634    0.7255     10408\n",
      "           4     0.6033    0.7812    0.6808     10290\n",
      "           5     0.6040    0.4998    0.5469     10323\n",
      "           6     0.5301    0.5761    0.5522     10171\n",
      "           7     0.5287    0.3592    0.4278     10122\n",
      "           8     0.4680    0.5953    0.5240     10231\n",
      "           9     0.7239    0.7184    0.7211     10405\n",
      "\n",
      "    accuracy                         0.7011    102623\n",
      "   macro avg     0.7054    0.7008    0.6983    102623\n",
      "weighted avg     0.7057    0.7011    0.6986    102623\n",
      "\n"
     ]
    }
   ],
   "source": [
    "print(trainer.generate_report())"
   ]
  },
  {
   "cell_type": "markdown",
   "id": "4b5a2260",
   "metadata": {},
   "source": [
    "### plotting loss curves"
   ]
  },
  {
   "cell_type": "code",
   "execution_count": 26,
   "id": "72337e52",
   "metadata": {},
   "outputs": [
    {
     "data": {
      "image/png": "[encoded data removed]",
      "text/plain": [
       "<Figure size 1200x500 with 2 Axes>"
      ]
     },
     "metadata": {},
     "output_type": "display_data"
    }
   ],
   "source": [
    "metrics_path = os.path.join(folder, 'metrics.json')\n",
    "\n",
    "# Load the metrics from the JSON file\n",
    "with open(metrics_path, 'r') as f:\n",
    "    metrics = json.load(f)['metrics']\n",
    "\n",
    "# Extract the loss and accuracy data\n",
    "train_loss = metrics['train_loss']\n",
    "test_loss = metrics['test_loss']\n",
    "train_acc = metrics['train_acc']\n",
    "test_acc = metrics['test_acc']\n",
    "\n",
    "# Plot the loss curves\n",
    "plt.figure(figsize=(12, 5))\n",
    "\n",
    "# Loss plot\n",
    "plt.subplot(1, 2, 1)\n",
    "plt.plot(train_loss, label='Training Loss')\n",
    "plt.plot(test_loss, label='Testing Loss')\n",
    "plt.title('Loss Curves')\n",
    "plt.xlabel('Epoch')\n",
    "plt.ylabel('Loss')\n",
    "plt.legend()\n",
    "plt.grid(True)\n",
    "\n",
    "# Accuracy plot\n",
    "plt.subplot(1, 2, 2)\n",
    "plt.plot(train_acc, label='Training Accuracy')\n",
    "plt.plot(test_acc, label='Testing Accuracy')\n",
    "plt.title('Accuracy Curves')\n",
    "plt.xlabel('Epoch')\n",
    "plt.ylabel('Accuracy')\n",
    "plt.legend()\n",
    "plt.grid(True)\n",
    "\n",
    "plt.tight_layout()\n",
    "plt.show()"
   ]
  },
  {
   "cell_type": "markdown",
   "id": "88a13364",
   "metadata": {},
   "source": [
    "### training on all layers"
   ]
  },
  {
   "cell_type": "code",
   "execution_count": 22,
   "id": "056a07a7",
   "metadata": {},
   "outputs": [
    {
     "name": "stdout",
     "output_type": "stream",
     "text": [
      "LAYER: 0\n",
      "dataset: 158702 pairs loaded...\n",
      "y: (array([0., 1., 2., 3., 4., 5., 6., 7., 8., 9.]), array([15838, 15867, 15879, 15940, 15850, 15918, 15853, 15854, 15869,\n",
      "       15834]))\n"
     ]
    },
    {
     "name": "stderr",
     "output_type": "stream",
     "text": [
      "Epoch 40; Train Loss: 0.94915; Train Acc: 59.041%; Test Acc: 58.168%: 100%|██████████| 40/40 [01:43<00:00,  2.58s/it]\n"
     ]
    },
    {
     "name": "stdout",
     "output_type": "stream",
     "text": [
      "LAYER: 1\n",
      "dataset: 158702 pairs loaded...\n",
      "y: (array([0., 1., 2., 3., 4., 5., 6., 7., 8., 9.]), array([15838, 15867, 15879, 15940, 15850, 15918, 15853, 15854, 15869,\n",
      "       15834]))\n"
     ]
    },
    {
     "name": "stderr",
     "output_type": "stream",
     "text": [
      "Epoch 40; Train Loss: 0.73077; Train Acc: 70.257%; Test Acc: 68.958%: 100%|██████████| 40/40 [01:43<00:00,  2.60s/it]\n"
     ]
    },
    {
     "name": "stdout",
     "output_type": "stream",
     "text": [
      "LAYER: 2\n",
      "dataset: 158702 pairs loaded...\n",
      "y: (array([0., 1., 2., 3., 4., 5., 6., 7., 8., 9.]), array([15838, 15867, 15879, 15940, 15850, 15918, 15853, 15854, 15869,\n",
      "       15834]))\n"
     ]
    },
    {
     "name": "stderr",
     "output_type": "stream",
     "text": [
      "Epoch 40; Train Loss: 0.62059; Train Acc: 74.773%; Test Acc: 73.328%: 100%|██████████| 40/40 [01:44<00:00,  2.61s/it]\n"
     ]
    },
    {
     "name": "stdout",
     "output_type": "stream",
     "text": [
      "LAYER: 3\n",
      "dataset: 158702 pairs loaded...\n",
      "y: (array([0., 1., 2., 3., 4., 5., 6., 7., 8., 9.]), array([15838, 15867, 15879, 15940, 15850, 15918, 15853, 15854, 15869,\n",
      "       15834]))\n"
     ]
    },
    {
     "name": "stderr",
     "output_type": "stream",
     "text": [
      "Epoch 40; Train Loss: 0.61062; Train Acc: 74.305%; Test Acc: 71.535%: 100%|██████████| 40/40 [01:43<00:00,  2.59s/it]\n"
     ]
    },
    {
     "name": "stdout",
     "output_type": "stream",
     "text": [
      "LAYER: 4\n",
      "dataset: 158702 pairs loaded...\n",
      "y: (array([0., 1., 2., 3., 4., 5., 6., 7., 8., 9.]), array([15838, 15867, 15879, 15940, 15850, 15918, 15853, 15854, 15869,\n",
      "       15834]))\n"
     ]
    },
    {
     "name": "stderr",
     "output_type": "stream",
     "text": [
      "Epoch 40; Train Loss: 0.60751; Train Acc: 73.808%; Test Acc: 71.901%: 100%|██████████| 40/40 [01:43<00:00,  2.59s/it]\n"
     ]
    },
    {
     "name": "stdout",
     "output_type": "stream",
     "text": [
      "LAYER: 5\n",
      "dataset: 158702 pairs loaded...\n",
      "y: (array([0., 1., 2., 3., 4., 5., 6., 7., 8., 9.]), array([15838, 15867, 15879, 15940, 15850, 15918, 15853, 15854, 15869,\n",
      "       15834]))\n"
     ]
    },
    {
     "name": "stderr",
     "output_type": "stream",
     "text": [
      "Epoch 40; Train Loss: 0.60988; Train Acc: 73.448%; Test Acc: 71.438%: 100%|██████████| 40/40 [01:44<00:00,  2.61s/it]\n"
     ]
    },
    {
     "name": "stdout",
     "output_type": "stream",
     "text": [
      "LAYER: 6\n",
      "dataset: 158702 pairs loaded...\n",
      "y: (array([0., 1., 2., 3., 4., 5., 6., 7., 8., 9.]), array([15838, 15867, 15879, 15940, 15850, 15918, 15853, 15854, 15869,\n",
      "       15834]))\n"
     ]
    },
    {
     "name": "stderr",
     "output_type": "stream",
     "text": [
      "Epoch 40; Train Loss: 0.62943; Train Acc: 72.048%; Test Acc: 70.889%: 100%|██████████| 40/40 [01:44<00:00,  2.60s/it]\n"
     ]
    },
    {
     "name": "stdout",
     "output_type": "stream",
     "text": [
      "LAYER: 7\n",
      "dataset: 158702 pairs loaded...\n",
      "y: (array([0., 1., 2., 3., 4., 5., 6., 7., 8., 9.]), array([15838, 15867, 15879, 15940, 15850, 15918, 15853, 15854, 15869,\n",
      "       15834]))\n"
     ]
    },
    {
     "name": "stderr",
     "output_type": "stream",
     "text": [
      "Epoch 40; Train Loss: 0.67216; Train Acc: 69.694%; Test Acc: 68.508%: 100%|██████████| 40/40 [01:44<00:00,  2.61s/it]\n"
     ]
    },
    {
     "name": "stdout",
     "output_type": "stream",
     "text": [
      "LAYER: 8\n",
      "dataset: 158702 pairs loaded...\n",
      "y: (array([0., 1., 2., 3., 4., 5., 6., 7., 8., 9.]), array([15838, 15867, 15879, 15940, 15850, 15918, 15853, 15854, 15869,\n",
      "       15834]))\n"
     ]
    },
    {
     "name": "stderr",
     "output_type": "stream",
     "text": [
      "Epoch 40; Train Loss: 0.72806; Train Acc: 67.135%; Test Acc: 66.630%: 100%|██████████| 40/40 [01:43<00:00,  2.59s/it]\n"
     ]
    },
    {
     "name": "stdout",
     "output_type": "stream",
     "text": [
      "LAYER: 9\n",
      "dataset: 158702 pairs loaded...\n",
      "y: (array([0., 1., 2., 3., 4., 5., 6., 7., 8., 9.]), array([15838, 15867, 15879, 15940, 15850, 15918, 15853, 15854, 15869,\n",
      "       15834]))\n"
     ]
    },
    {
     "name": "stderr",
     "output_type": "stream",
     "text": [
      "Epoch 40; Train Loss: 0.79549; Train Acc: 64.063%; Test Acc: 62.641%: 100%|██████████| 40/40 [01:44<00:00,  2.60s/it]\n"
     ]
    },
    {
     "name": "stdout",
     "output_type": "stream",
     "text": [
      "LAYER: 10\n",
      "dataset: 158702 pairs loaded...\n",
      "y: (array([0., 1., 2., 3., 4., 5., 6., 7., 8., 9.]), array([15838, 15867, 15879, 15940, 15850, 15918, 15853, 15854, 15869,\n",
      "       15834]))\n"
     ]
    },
    {
     "name": "stderr",
     "output_type": "stream",
     "text": [
      "Epoch 40; Train Loss: 0.88918; Train Acc: 60.145%; Test Acc: 58.442%: 100%|██████████| 40/40 [01:44<00:00,  2.61s/it]\n"
     ]
    },
    {
     "name": "stdout",
     "output_type": "stream",
     "text": [
      "LAYER: 11\n",
      "dataset: 158702 pairs loaded...\n",
      "y: (array([0., 1., 2., 3., 4., 5., 6., 7., 8., 9.]), array([15838, 15867, 15879, 15940, 15850, 15918, 15853, 15854, 15869,\n",
      "       15834]))\n"
     ]
    },
    {
     "name": "stderr",
     "output_type": "stream",
     "text": [
      "Epoch 40; Train Loss: 1.14027; Train Acc: 51.487%; Test Acc: 50.792%: 100%|██████████| 40/40 [01:43<00:00,  2.60s/it]\n"
     ]
    }
   ],
   "source": [
    "for LAYER in range(x_all_layers.shape[0]):\n",
    "    print(f\"LAYER: {LAYER}\")\n",
    "    x = x_all_layers[LAYER, :, :]\n",
    "\n",
    "    probing_dataset = ProbingDataset(x, y)\n",
    "    train_size = int(0.8 * len(probing_dataset))\n",
    "    test_size = len(probing_dataset) - train_size\n",
    "    probe_train_dataset, probe_test_dataset = torch.utils.data.random_split(probing_dataset, [train_size, test_size])\n",
    "\n",
    "    probe = LinearProbe(device, 768, 10)\n",
    "\n",
    "    folder = f\"ckpts/{model_name}/randwords_159k/layer{LAYER}\"\n",
    "    config = TrainerConfig(num_epochs=40, ckpt_path=folder)\n",
    "    trainer = Trainer(device, probe, probe_train_dataset, probe_test_dataset, config)\n",
    "\n",
    "    trainer.train()"
   ]
  },
  {
   "cell_type": "code",
   "execution_count": 3,
   "id": "3fee89b0",
   "metadata": {},
   "outputs": [
    {
     "data": {
      "image/png": "[encoded data removed]",
      "text/plain": [
       "<Figure size 800x500 with 1 Axes>"
      ]
     },
     "metadata": {},
     "output_type": "display_data"
    }
   ],
   "source": [
    "by_layer = []\n",
    "for i in range(12):\n",
    "    with open(f\"ckpts/gpt2-small/randwords_159k/layer{i}/metrics.json\", 'r') as f:\n",
    "        metrics = json.load(f)['metrics']\n",
    "        best = max(metrics['test_acc'])\n",
    "        by_layer.append(best)\n",
    "\n",
    "plt.figure(figsize=(8, 5))\n",
    "\n",
    "plt.plot(by_layer)\n",
    "plt.title('Test Acc by Layer')\n",
    "plt.xlabel('Layer')\n",
    "plt.ylabel('Test Accuracy')\n",
    "plt.grid(True)\n",
    "\n",
    "plt.tight_layout()\n",
    "plt.show()"
   ]
  }
 ],
 "metadata": {
  "kernelspec": {
   "display_name": "ling",
   "language": "python",
   "name": "python3"
  },
  "language_info": {
   "codemirror_mode": {
    "name": "ipython",
    "version": 3
   },
   "file_extension": ".py",
   "mimetype": "text/x-python",
   "name": "python",
   "nbconvert_exporter": "python",
   "pygments_lexer": "ipython3",
   "version": "3.11.7"
  }
 },
 "nbformat": 4,
 "nbformat_minor": 5
}
