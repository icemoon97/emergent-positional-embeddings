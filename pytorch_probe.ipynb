{
 "cells": [
  {
   "cell_type": "code",
   "execution_count": 2,
   "metadata": {},
   "outputs": [],
   "source": [
    "from tqdm import tqdm\n",
    "import numpy as np\n",
    "import torch\n",
    "from torch.utils.data import Dataset"
   ]
  },
  {
   "cell_type": "code",
   "execution_count": 5,
   "metadata": {},
   "outputs": [
    {
     "name": "stdout",
     "output_type": "stream",
     "text": [
      "0\n"
     ]
    }
   ],
   "source": [
    "if torch.cuda.is_available():\n",
    "    device = torch.cuda.current_device()\n",
    "print(device)"
   ]
  },
  {
   "cell_type": "markdown",
   "metadata": {},
   "source": [
    "## super simple linear probe"
   ]
  },
  {
   "cell_type": "code",
   "execution_count": 6,
   "metadata": {},
   "outputs": [],
   "source": [
    "class ProbingDataset(Dataset):\n",
    "    def __init__(self, act, y):\n",
    "        assert len(act) == len(y)\n",
    "        print(f\"dataset: {len(act)} pairs loaded...\")\n",
    "        self.act = act\n",
    "        self.y = y\n",
    "        print(\"y:\", np.unique(y, return_counts=True))\n",
    "        \n",
    "    def __len__(self, ):\n",
    "        return len(self.y)\n",
    "    \n",
    "    def __getitem__(self, idx):\n",
    "        return torch.tensor(self.act[idx]), torch.tensor(self.y[idx]).long()"
   ]
  },
  {
   "cell_type": "code",
   "execution_count": 7,
   "metadata": {},
   "outputs": [
    {
     "name": "stdout",
     "output_type": "stream",
     "text": [
      "Loaded act: (63820, 768)\n",
      "Loaded labels: (63820,)\n",
      "dataset: 63820 pairs loaded...\n",
      "y: (array([0., 1., 2., 3., 4., 5., 6., 7., 8., 9.]), array([6343, 6350, 6445, 6423, 6355, 6327, 6444, 6378, 6414, 6341]))\n",
      "split into [test/train], [12764/51056]\n"
     ]
    }
   ],
   "source": [
    "LAYER = 8\n",
    "\n",
    "act = np.load('63k_X_alllayers.npy')\n",
    "labels = np.load('63k_Y.npy')\n",
    "\n",
    "act = act[LAYER, :, :]\n",
    "\n",
    "print(f\"Loaded act: {act.shape}\")\n",
    "print(f\"Loaded labels: {labels.shape}\")\n",
    "\n",
    "probing_dataset = ProbingDataset(act, labels)\n",
    "train_size = int(0.8 * len(probing_dataset))\n",
    "test_size = len(probing_dataset) - train_size\n",
    "probe_train_dataset, probe_test_dataset = torch.utils.data.random_split(probing_dataset, [train_size, test_size])\n",
    "print(f\"split into [test/train], [{test_size}/{train_size}]\")"
   ]
  },
  {
   "cell_type": "code",
   "execution_count": 8,
   "metadata": {},
   "outputs": [
    {
     "name": "stderr",
     "output_type": "stream",
     "text": [
      "/home/jnb5885/miniconda3/envs/ling/lib/python3.11/site-packages/tqdm/auto.py:21: TqdmWarning: IProgress not found. Please update jupyter and ipywidgets. See https://ipywidgets.readthedocs.io/en/stable/user_install.html\n",
      "  from .autonotebook import tqdm as notebook_tqdm\n",
      "Epoch 50, Loss: 0.745541, Acc: 0.679391: 100%|██████████| 50/50 [00:38<00:00,  1.29it/s]\n"
     ]
    }
   ],
   "source": [
    "import torch\n",
    "import torch.nn as nn\n",
    "import torch.optim as optim\n",
    "from torch.utils.data import DataLoader\n",
    "\n",
    "class LinearProbe(nn.Module):\n",
    "    def __init__(self, num_input_features, num_classes):\n",
    "        super(LinearProbe, self).__init__()\n",
    "        self.linear = nn.Linear(num_input_features, num_classes)\n",
    "    \n",
    "    def forward(self, x):\n",
    "        return self.linear(x)\n",
    "\n",
    "\n",
    "probe = LinearProbe(768, 10)\n",
    "\n",
    "config = {\n",
    "    'learning_rate': 0.001,\n",
    "    'weight_decay': 1e-3,\n",
    "    'batch_size': 1024,\n",
    "    'num_epochs': 50,\n",
    "}\n",
    "\n",
    "criterion = nn.CrossEntropyLoss()\n",
    "optimizer = optim.Adam(probe.parameters(), lr=config['learning_rate'], weight_decay=config['weight_decay'])\n",
    "\n",
    "dataloader = DataLoader(probe_train_dataset, batch_size=config['batch_size'], shuffle=True)\n",
    "\n",
    "# training loop\n",
    "bar = tqdm(range(config['num_epochs']))\n",
    "for epoch in bar:\n",
    "    running_loss = 0.0\n",
    "    correct = 0\n",
    "    total = 0\n",
    "    for inputs, labels in dataloader:\n",
    "        # Zero the parameter gradients\n",
    "        optimizer.zero_grad()\n",
    "\n",
    "        # Forward pass\n",
    "        outputs = probe(inputs)\n",
    "\n",
    "        # Compute loss\n",
    "        loss = criterion(outputs, labels)\n",
    "\n",
    "        # Backward pass and optimize\n",
    "        loss.backward()\n",
    "        optimizer.step()\n",
    "\n",
    "        running_loss += loss.item()\n",
    "\n",
    "        # train accuracy\n",
    "        _, predicted = torch.max(outputs.data, 1)\n",
    "        total += labels.size(0)\n",
    "        correct += (predicted == labels).sum().item()\n",
    "\n",
    "    bar.set_description(f'Epoch {epoch+1}, Loss: {running_loss/len(dataloader):.6f}, Acc: {correct/total:.6f}')\n"
   ]
  },
  {
   "cell_type": "markdown",
   "metadata": {},
   "source": [
    "### test accuracy"
   ]
  },
  {
   "cell_type": "code",
   "execution_count": 9,
   "metadata": {},
   "outputs": [
    {
     "name": "stderr",
     "output_type": "stream",
     "text": [
      "100%|██████████| 13/13 [00:00<00:00, 74.86it/s]"
     ]
    },
    {
     "name": "stdout",
     "output_type": "stream",
     "text": [
      "Test Accuracy: 0.62159\n"
     ]
    },
    {
     "name": "stderr",
     "output_type": "stream",
     "text": [
      "\n"
     ]
    }
   ],
   "source": [
    "from torch.utils.data import DataLoader\n",
    "\n",
    "test_dataloader = DataLoader(probe_test_dataset, batch_size=config['batch_size'], shuffle=False)\n",
    "\n",
    "total = 0\n",
    "correct = 0\n",
    "\n",
    "y_pred = []\n",
    "\n",
    "probe.eval()\n",
    "with torch.no_grad():\n",
    "    for inputs, labels in tqdm(test_dataloader):\n",
    "\n",
    "        outputs = probe(inputs)\n",
    "        _, predicted = torch.max(outputs.data, 1)\n",
    "\n",
    "        total += labels.size(0)\n",
    "        correct += (predicted == labels).sum().item()\n",
    "\n",
    "        y_pred.append(predicted.cpu().numpy())\n",
    "\n",
    "print(f'Test Accuracy: {correct/total:.5f}')\n",
    "\n",
    "y_pred = np.concatenate(y_pred)"
   ]
  },
  {
   "cell_type": "code",
   "execution_count": 10,
   "metadata": {},
   "outputs": [
    {
     "name": "stdout",
     "output_type": "stream",
     "text": [
      "              precision    recall  f1-score   support\n",
      "\n",
      "         0.0       0.99      0.98      0.99      1256\n",
      "         1.0       0.91      0.93      0.92      1274\n",
      "         2.0       0.79      0.78      0.78      1259\n",
      "         3.0       0.61      0.71      0.66      1289\n",
      "         4.0       0.58      0.38      0.45      1284\n",
      "         5.0       0.44      0.65      0.53      1238\n",
      "         6.0       0.42      0.29      0.35      1334\n",
      "         7.0       0.42      0.37      0.39      1259\n",
      "         8.0       0.41      0.42      0.42      1293\n",
      "         9.0       0.63      0.72      0.68      1278\n",
      "\n",
      "    accuracy                           0.62     12764\n",
      "   macro avg       0.62      0.62      0.62     12764\n",
      "weighted avg       0.62      0.62      0.61     12764\n",
      "\n"
     ]
    }
   ],
   "source": [
    "from sklearn.metrics import classification_report\n",
    "\n",
    "y_full = np.load('63k_Y.npy')\n",
    "print(classification_report(y_full[probe_test_dataset.indices], y_pred))"
   ]
  }
 ],
 "metadata": {
  "kernelspec": {
   "display_name": "ling",
   "language": "python",
   "name": "python3"
  },
  "language_info": {
   "codemirror_mode": {
    "name": "ipython",
    "version": 3
   },
   "file_extension": ".py",
   "mimetype": "text/x-python",
   "name": "python",
   "nbconvert_exporter": "python",
   "pygments_lexer": "ipython3",
   "version": "3.11.7"
  }
 },
 "nbformat": 4,
 "nbformat_minor": 2
}
