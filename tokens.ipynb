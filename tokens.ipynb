{
 "cells": [
  {
   "cell_type": "code",
   "execution_count": 1,
   "metadata": {},
   "outputs": [],
   "source": [
    "import matplotlib.pyplot as plt\n",
    "import numpy as np\n",
    "import torch\n",
    "from tqdm import tqdm\n",
    "\n",
    "import transformer_lens\n",
    "\n",
    "import spacy"
   ]
  },
  {
   "cell_type": "code",
   "execution_count": 2,
   "metadata": {},
   "outputs": [],
   "source": [
    "# Load the spaCy model\n",
    "spacy_model = spacy.load(\"en_core_web_sm\")"
   ]
  },
  {
   "cell_type": "code",
   "execution_count": 3,
   "metadata": {},
   "outputs": [
    {
     "name": "stdout",
     "output_type": "stream",
     "text": [
      "Device: cuda\n"
     ]
    }
   ],
   "source": [
    "device_name = \"cpu\"\n",
    "if torch.cuda.is_available():\n",
    "    device_name = \"cuda\" # CUDA for NVIDIA GPU\n",
    "\n",
    "device = torch.device(device_name)\n",
    "print(f\"Device: {device_name}\")"
   ]
  },
  {
   "cell_type": "code",
   "execution_count": 4,
   "metadata": {},
   "outputs": [
    {
     "name": "stdout",
     "output_type": "stream",
     "text": [
      "Loaded pretrained model gpt2-small into HookedTransformer\n"
     ]
    }
   ],
   "source": [
    "model_name = \"gpt2-small\"\n",
    "model = transformer_lens.HookedTransformer.from_pretrained(model_name)"
   ]
  },
  {
   "cell_type": "code",
   "execution_count": 5,
   "metadata": {},
   "outputs": [
    {
     "name": "stdout",
     "output_type": "stream",
     "text": [
      "tensor([50256,  1212,   318,   257,  1332,   286, 11241, 11341,    11,  2491,\n",
      "        14284,   968,   263,    11, 28796,   430,  2411,   506,  4775,    11,\n",
      "         3169,   417,   399,  5282,    11,   366,   538,   291, 40484],\n",
      "       device='cuda:0')\n",
      "['<|endoftext|>', 'This', ' is', ' a', ' test', ' of', ' token', 'izers', ',', ' running', ' jumping', ' New', 'er', ',', ' wow', 'ra', 'rel', 'ong', 'word', ',', ' Ne', 'el', ' N', 'anda', ',', ' \"', 'ep', 'ic', '\"!']\n"
     ]
    }
   ],
   "source": [
    "text = \"This is a test of tokenizers, running jumping Newer, wowrarelongword, Neel Nanda, \\\"epic\\\"!\"\n",
    "\n",
    "gpt_tokens = model.to_tokens(text).squeeze(0)\n",
    "gpt_tokens_str = [model.to_single_str_token(int(t)) for t in gpt_tokens]\n",
    "\n",
    "print(gpt_tokens)\n",
    "print(gpt_tokens_str)"
   ]
  },
  {
   "cell_type": "code",
   "execution_count": 6,
   "metadata": {},
   "outputs": [
    {
     "name": "stdout",
     "output_type": "stream",
     "text": [
      "['This', 'is', 'a', 'test', 'of', 'tokenizers', 'running', 'jumping', 'Newer', 'wowrarelongword', 'Neel', 'Nanda', 'epic']\n"
     ]
    }
   ],
   "source": [
    "doc = spacy_model(text)\n",
    "word_idxs = [t.text for t in doc if t.is_alpha]\n",
    "print(word_idxs)"
   ]
  },
  {
   "cell_type": "code",
   "execution_count": 7,
   "metadata": {},
   "outputs": [
    {
     "data": {
      "text/plain": [
       "[('<|endoftext|>', -1),\n",
       " ('This', 0),\n",
       " ('is', 1),\n",
       " ('a', 2),\n",
       " ('test', 3),\n",
       " ('of', 4),\n",
       " ('token', 5),\n",
       " ('izers', 5),\n",
       " (',', -1),\n",
       " ('running', 6),\n",
       " ('jumping', 7),\n",
       " ('New', 8),\n",
       " ('er', 8),\n",
       " (',', -1),\n",
       " ('wow', 9),\n",
       " ('ra', 9),\n",
       " ('rel', 9),\n",
       " ('ong', 9),\n",
       " ('word', 9),\n",
       " (',', -1),\n",
       " ('Ne', 10),\n",
       " ('el', 10),\n",
       " ('N', 11),\n",
       " ('anda', 11),\n",
       " (',', -1),\n",
       " ('\"', -1),\n",
       " ('ep', 12),\n",
       " ('ic', 12),\n",
       " ('\"!', -1)]"
      ]
     },
     "execution_count": 7,
     "metadata": {},
     "output_type": "execute_result"
    }
   ],
   "source": [
    "i = 0\n",
    "cur = 0 # current word index\n",
    "sub_idx = 0 # sub index of current word\n",
    "\n",
    "result = []\n",
    "while i < len(gpt_tokens_str):\n",
    "    t = gpt_tokens_str[i].strip()\n",
    "\n",
    "    cur_word = word_idxs[cur]\n",
    "    # if token is part of current word, update sub_idx, continue to next token\n",
    "    if cur_word.find(t, sub_idx) != -1:\n",
    "        result.append((t, cur))\n",
    "        sub_idx += len(t)\n",
    "        i += 1\n",
    "    else:\n",
    "        # if token not in cur_word, check next word\n",
    "        if cur+1 < len(word_idxs) and t in word_idxs[cur+1]:\n",
    "            cur += 1\n",
    "            sub_idx = 0\n",
    "        # if not in cur_word or next word, give up and continue\n",
    "        else:\n",
    "            i += 1\n",
    "            result.append((t, -1))\n",
    "\n",
    "result"
   ]
  },
  {
   "cell_type": "code",
   "execution_count": 8,
   "metadata": {},
   "outputs": [],
   "source": [
    "def map_word_index(text):\n",
    "    gpt_tokens = model.to_tokens(text).squeeze(0)\n",
    "    gpt_tokens_str = [model.to_single_str_token(int(t)) for t in gpt_tokens]\n",
    "\n",
    "    doc = spacy_model(text)\n",
    "    word_idxs = [t.text for t in doc if t.is_alpha]\n",
    "\n",
    "    if not len(word_idxs):\n",
    "        return []\n",
    "\n",
    "    i = 0\n",
    "    cur = 0 # current word index\n",
    "    sub_idx = 0 # sub index of current word\n",
    "\n",
    "    result = []\n",
    "    while i < len(gpt_tokens_str):\n",
    "        t = gpt_tokens_str[i].strip()\n",
    "        # skip if token is just a newline or other whitespace\n",
    "        if not len(t):\n",
    "            result.append((t, i, -1))\n",
    "            i += 1\n",
    "            continue\n",
    "\n",
    "        cur_word = word_idxs[cur]\n",
    "        # if token is part of current word, update sub_idx, continue to next token\n",
    "        if cur_word.find(t, sub_idx) != -1:\n",
    "            result.append((t, i, cur))\n",
    "            sub_idx += len(t)\n",
    "            i += 1\n",
    "        else:\n",
    "            # if token not in cur_word, check next word\n",
    "            if cur+1 < len(word_idxs) and t in word_idxs[cur+1]:\n",
    "                cur += 1\n",
    "                sub_idx = 0\n",
    "            # if not in cur_word or next word, give up and continue\n",
    "            else:\n",
    "                result.append((t, i, -1))\n",
    "                i += 1 \n",
    "\n",
    "    return result"
   ]
  },
  {
   "cell_type": "code",
   "execution_count": 9,
   "metadata": {},
   "outputs": [
    {
     "data": {
      "text/plain": [
       "[('<|endoftext|>', 0, -1),\n",
       " ('This', 1, 0),\n",
       " ('is', 2, 1),\n",
       " ('a', 3, 2),\n",
       " ('test', 4, 3),\n",
       " ('of', 5, 4),\n",
       " ('token', 6, 5),\n",
       " ('izers', 7, 5),\n",
       " (',', 8, -1),\n",
       " ('running', 9, 6),\n",
       " ('jumping', 10, 7),\n",
       " ('New', 11, 8),\n",
       " ('er', 12, 8),\n",
       " (',', 13, -1),\n",
       " ('wow', 14, 9),\n",
       " ('ra', 15, 9),\n",
       " ('rel', 16, 9),\n",
       " ('ong', 17, 9),\n",
       " ('word', 18, 9),\n",
       " (',', 19, -1),\n",
       " ('Ne', 20, 10),\n",
       " ('el', 21, 10),\n",
       " ('N', 22, 11),\n",
       " ('anda', 23, 11),\n",
       " (',', 24, -1),\n",
       " ('\"', 25, -1),\n",
       " ('ep', 26, 12),\n",
       " ('ic', 27, 12),\n",
       " ('\"!', 28, -1)]"
      ]
     },
     "execution_count": 9,
     "metadata": {},
     "output_type": "execute_result"
    }
   ],
   "source": [
    "map_word_index(text)"
   ]
  },
  {
   "cell_type": "code",
   "execution_count": 10,
   "metadata": {},
   "outputs": [
    {
     "name": "stderr",
     "output_type": "stream",
     "text": [
      "100%|██████████| 5000/5000 [00:31<00:00, 159.86it/s]\n"
     ]
    }
   ],
   "source": [
    "token_idx = []\n",
    "word_idx = []\n",
    "\n",
    "N_LINES = 5000\n",
    "\n",
    "with open('datasets/brown.dev', 'r') as f:\n",
    "    prewar = [line.rstrip(\"\\n\") for line in f.readlines()]\n",
    "\n",
    "    for i, line in tqdm(enumerate(prewar[:N_LINES]), total=N_LINES):\n",
    "        # print(i)\n",
    "        for _, tid, wid in map_word_index(line)[:100]:\n",
    "            if wid < 0:\n",
    "                continue\n",
    "            token_idx.append(tid)\n",
    "            word_idx.append(wid)"
   ]
  },
  {
   "cell_type": "code",
   "execution_count": 13,
   "metadata": {},
   "outputs": [
    {
     "data": {
      "image/png": "[encoded data removed]",
      "text/plain": [
       "<Figure size 640x480 with 1 Axes>"
      ]
     },
     "metadata": {},
     "output_type": "display_data"
    }
   ],
   "source": [
    "plt.scatter(token_idx, word_idx, s=0.2) \n",
    "\n",
    "# x = y line\n",
    "plt.plot([0, 100], [0, 100], 'r-', linewidth=1)\n",
    "\n",
    "plt.xlabel('token index')\n",
    "plt.ylabel('word index')\n",
    "plt.show()"
   ]
  },
  {
   "cell_type": "code",
   "execution_count": 15,
   "metadata": {},
   "outputs": [
    {
     "data": {
      "image/png": "[encoded data removed]",
      "text/plain": [
       "<Figure size 640x480 with 1 Axes>"
      ]
     },
     "metadata": {},
     "output_type": "display_data"
    }
   ],
   "source": [
    "plt.hist(word_idx, range(50))\n",
    "plt.xlabel(\"Word Index\")\n",
    "plt.show()"
   ]
  },
  {
   "cell_type": "code",
   "execution_count": 24,
   "metadata": {},
   "outputs": [
    {
     "data": {
      "text/plain": [
       "array([ 1.,  2.,  3.,  5.,  7.,  9., 11., 15., 21.])"
      ]
     },
     "execution_count": 24,
     "metadata": {},
     "output_type": "execute_result"
    }
   ],
   "source": [
    "# quintiles = np.percentile(word_idx, [20, 40, 60, 80])\n",
    "quintiles = np.percentile(word_idx, [10, 20, 30, 40, 50, 60, 70, 80, 90])\n",
    "quintiles"
   ]
  },
  {
   "cell_type": "code",
   "execution_count": 27,
   "metadata": {},
   "outputs": [
    {
     "data": {
      "image/png": "[encoded data removed]",
      "text/plain": [
       "<Figure size 640x480 with 1 Axes>"
      ]
     },
     "metadata": {},
     "output_type": "display_data"
    }
   ],
   "source": [
    "q_binned = np.searchsorted(quintiles, word_idx, side='right')\n",
    "plt.hist(q_binned, range(11))\n",
    "plt.xlabel(\"Percentile bucket\")\n",
    "plt.show()"
   ]
  }
 ],
 "metadata": {
  "kernelspec": {
   "display_name": "ling",
   "language": "python",
   "name": "python3"
  },
  "language_info": {
   "codemirror_mode": {
    "name": "ipython",
    "version": 3
   },
   "file_extension": ".py",
   "mimetype": "text/x-python",
   "name": "python",
   "nbconvert_exporter": "python",
   "pygments_lexer": "ipython3",
   "version": "3.11.7"
  }
 },
 "nbformat": 4,
 "nbformat_minor": 2
}
